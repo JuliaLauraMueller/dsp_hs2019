{
 "cells": [
  {
   "cell_type": "markdown",
   "metadata": {
    "deletable": false,
    "editable": false,
    "nbgrader": {
     "cell_type": "markdown",
     "checksum": "6b72014447ab552c0760447d54b26274",
     "grade": false,
     "grade_id": "header",
     "locked": true,
     "schema_version": 3,
     "solution": false
    }
   },
   "source": [
    "# DSP - Aufgabenblatt 11\n",
    "\n",
    "## Bewertete Übung\n",
    "\n",
    "#### FHNW - HS2019"
   ]
  },
  {
   "cell_type": "markdown",
   "metadata": {
    "deletable": false,
    "editable": false,
    "nbgrader": {
     "cell_type": "markdown",
     "checksum": "ac7a0c53a0ae24bbef6e395d1e65b18f",
     "grade": false,
     "grade_id": "cell-f66de17fc6068da5",
     "locked": true,
     "schema_version": 3,
     "solution": false
    }
   },
   "source": [
    "#### Vorgaben für die Zusammenarbeit\n",
    "\n",
    "Sie dürfen für die Lösung der Übung zusammenarbeiten, so lange sich ihre **Zusammenarbeit auf konzeptionelle und algorithmische Fragestellungen beschränkt**. Bei kopiertem Code oder Text (von Mitstudierenden oder dem Internet) werden alle Lösungen der beteiligten Parteien mit 0 Punkten bewertet. Dazu werden alle Lösungen manuell und automatisiert auf Kopien untersucht.  \n",
    "\n",
    "#### Abgabe\n",
    "\n",
    "Arbeiten Sie auf einem eigenen Fork des Repositories `https://gitlab.fhnw.ch/ml/courses/dsp/dsp_hs2019.git` zu welchem Sie den Dozenten (@michael.graber) als *Maintainer* hinzufügen. Committen Sie regelmässig. Als Abgabe gilt ihr **letzter Commit vor Montag, 23. Dezember 2019, 24 Uhr**."
   ]
  },
  {
   "cell_type": "markdown",
   "metadata": {
    "deletable": false,
    "editable": false,
    "nbgrader": {
     "cell_type": "markdown",
     "checksum": "a4ecf403b3209a149e0e2639373b7692",
     "grade": false,
     "grade_id": "cell-decacecdd1529d0d",
     "locked": true,
     "schema_version": 3,
     "solution": false
    }
   },
   "source": [
    "#### Hinweise\n",
    "- Der *Code* muss von Anfang bis Ende durchlaufen. Es wird nur Code bewertet, welcher beim automatischen Durchlaufen ausgeführt wird.    \n",
    "- Beschriften Sie sämtliche Achsen (Bezeichnung und Einheit wenn möglich).  \n",
    "- Ergänzen Sie den Plot mit zusätzlicher Beschriftung falls dies zum Verständnis des Plots notwendig ist.  \n",
    "- Wenn Sie einen Plot in einer Antwort diskutieren, beginnen Sie mit einer Beschreibung dessen was der Plot zeigt.  \n",
    "\n",
    "\n",
    "- Sämtliche Variablen die in einer von Ihnen definierten Funktionen verwendet werden, müssen als Argumente übergeben  oder innerhalb der Funktion definiert werden.\n",
    "- Selbst definierte Funktionen müssen einen (kurzen) docstring haben.\n",
    "\n",
    "\n",
    "- Versuchen Sie eine kompakte und performante Implementierung zu finden. Vollständige Punktzahl erreichen Sie bloss mit performantem *Code*.  \n",
    "- Verwenden Sie dazu, wo immer möglich und sinnvoll, Funktionen aus `pandas` und `numpy`.\n",
    "- Vermeiden Sie *Loops* falls möglich."
   ]
  },
  {
   "cell_type": "markdown",
   "metadata": {
    "deletable": false,
    "editable": false,
    "nbgrader": {
     "cell_type": "markdown",
     "checksum": "6b23c64be9da983d055288153571a3f1",
     "grade": false,
     "grade_id": "cell-4e580db29af0a865",
     "locked": true,
     "schema_version": 3,
     "solution": false
    }
   },
   "source": [
    "Am 14. April 1912 ist die Titanic vor der Küste Neufundlands auf ihrer Jungfernfahrt mit einem Eisberg kollidiert und sank kanpp 3 Stunden später in den frühen Morgenstunden des 15. Aprils. Von den ca 2224 Passagieren und Crewmitgliedern starben rund 1500.  \n",
    "\n",
    "Auf der Website https://www.encyclopedia-titanica.org/ können Passagier- und Crewlisten runtergeladen werden. Ich habe Ihnen zwei Dateien bereitgestellt: 'data/titanic_survivors.csv' und 'data/titanic_victims.csv'. Sie beinhalten jeweils die Überlebenden und Opfer des Unglücks.  \n",
    "\n",
    "Wir werden in dieser Übung die Personen hinter diesem Unglück miteinander untersuchen."
   ]
  },
  {
   "cell_type": "markdown",
   "metadata": {
    "deletable": false,
    "editable": false,
    "nbgrader": {
     "cell_type": "markdown",
     "checksum": "ee76af2a4b6d7251c639adfbeac0a4fb",
     "grade": false,
     "grade_id": "cell-d0b1658323be9aa7",
     "locked": true,
     "schema_version": 3,
     "solution": false
    }
   },
   "source": [
    "### Aufgabe 1 (10 Punkte)  \n",
    "\n",
    "Schreiben Sie eine Funktion, mit welcher Sie die beiden Dateien laden und präprozessieren können.  \n",
    "\n",
    "Die Funktion soll ein `DataFrame` zurückgeben mit folgenden Spalten: `'name', 'sex', 'age', 'is_adult', 'job', 'class_dept', 'is_passenger', 'joined', 'boat_body', 'ticketprice', 'survived',`.  \n",
    "\n",
    "\n",
    "- Der Ticketpreis steht bei Passagieren jeweils auf der folgenden Zeile im Feld `Ticket`. Extrahieren Sie Pfund, Shilling und Pence mittels *regular expression-matching* auf dem `DataFrame`.\n",
    "- Berechnen Sie einen Dezimalbetrag in Pfund gemäss dem folgenden Satz: *'There were 12 pence in a shilling and 20 shillings in a pound.'* \n",
    "- Leiten Sie das Geschlecht `sex` aus dem Namen, insbesondere aus der Anrede, ab. Finden Sie einen geeignete `pandas`-Methode für das *Mapping*.\n",
    "- Berechnenen Sie das Alter für alle Personen in Jahren (`m` steht für *months*).\n",
    "- `is_passenger` soll `True` sein, falls `class_dept` in `['1st Class Passenger', '2nd Class Passenger', '3rd Class Passenger',]` ist.  \n",
    "- Sortieren Sie das `DataFrame` nach dem Familiennamen.\n",
    "\n",
    "Jeder *for-Loop* gibt 2 Punkte Abzug.  \n",
    "\n",
    "Laden Sie die Daten und geben Sie die ersten 10 Zeilen aus."
   ]
  },
  {
   "cell_type": "code",
   "execution_count": 136,
   "metadata": {
    "deletable": false,
    "nbgrader": {
     "cell_type": "code",
     "checksum": "415e716d849f73ac7a5c86d5af1106be",
     "grade": true,
     "grade_id": "cell-8478028c8583e471",
     "locked": false,
     "points": 10,
     "schema_version": 3,
     "solution": true
    }
   },
   "outputs": [],
   "source": [
    "# imports\n",
    "import pandas as pd\n",
    "import numpy as np\n",
    "import re\n",
    "import seaborn as sns\n",
    "import matplotlib.pyplot as plt\n",
    "%matplotlib inline"
   ]
  },
  {
   "cell_type": "code",
   "execution_count": 137,
   "metadata": {},
   "outputs": [],
   "source": [
    "titanic_victims_df = '../../data/titanic_victims.csv'\n",
    "titanic_survivors_df = '../../data/titanic_survivors.csv'"
   ]
  },
  {
   "cell_type": "markdown",
   "metadata": {},
   "source": [
    "To do:\n",
    "\n",
    "- Berechnen Sie einen Dezimalbetrag in Pfund\n",
    "- Richtige Anzahl Female and Male? Sonderfall beachten?"
   ]
  },
  {
   "cell_type": "code",
   "execution_count": 141,
   "metadata": {},
   "outputs": [],
   "source": [
    "def cleanFile(df_1, df_2):\n",
    "    \"\"\"\n",
    "    Hello this is a doc\n",
    "    \"\"\" \n",
    "    #load data\n",
    "    df_1 = pd.read_csv(df_1, skiprows=5, sep=',', usecols=range(7))\n",
    "    df_2 = pd.read_csv(df_2, skiprows=5, sep=',', usecols=range(7))\n",
    "    \n",
    "    #Shift ticketprice and drop unused row\n",
    "    df_1.insert(3, 'Ticketprice', np.NaN)\n",
    "    ticket_prices = df_1.loc[df_1['Ticket'].str.contains('£|s|d') == True, ['Ticketprice']] = df_1['Ticket']\n",
    "    df_1['Ticketprice'] = df_1['Ticketprice'].shift(-1)\n",
    "    df_1 = df_1.dropna(subset=['Name'])\n",
    "    \n",
    "    df_2.insert(3, 'Ticketprice', np.NaN)\n",
    "    ticket_prices = df_2.loc[df_2['Ticket'].str.contains('£|s|d') == True, ['Ticketprice']] = df_2['Ticket']\n",
    "    df_2['Ticketprice'] = df_2['Ticketprice'].shift(-1)\n",
    "    df_2 = df_2.dropna(subset=['Name'])\n",
    "    \n",
    "    # drop not neccassary row with NaN\n",
    "    df_1 = df_1.dropna(subset=['Name'])\n",
    "    df_2 = df_2.dropna(subset=['Name']) \n",
    "    \n",
    "    #create new column for survived\n",
    "    df_1.insert(8, 'Survived', False)\n",
    "    df_2.insert(8, 'Survived', True)\n",
    "    \n",
    "    #Merge two files\n",
    "    frames = [df_1, df_2]\n",
    "    result_df = pd.concat(frames, ignore_index=True, sort=False)\n",
    "    \n",
    "    #drop Ticket\n",
    "    result_df = result_df.drop(columns=['Ticket'])\n",
    "    \n",
    "    \n",
    "    #Rename columns\n",
    "    result_df.rename(columns={'Name': 'name', 'Age': 'age', 'Class/Dept': 'class_dept', 'Ticketprice': 'ticketprice', 'Joined': 'joined',\n",
    "                       'Job': 'job', 'Boat [Body]': 'boat_body', 'Survived': 'survived'}, inplace=True)\n",
    "\n",
    "    \n",
    "    # Calculate a decimal amount in pounds\n",
    "    result_df.insert(4, 'pound', np.NaN)\n",
    "    result_df.insert(5, 'shilling', np.NaN)\n",
    "    result_df.insert(6, 'pence', np.NaN)\n",
    "    \n",
    "    result_df['pound'] = result_df['ticketprice'].str.extract(pat = '£(\\d*)')\n",
    "    result_df['shilling'] = result_df['ticketprice'].str.extract(pat = '(\\d*)s')\n",
    "    result_df['pence'] = result_df['ticketprice'].str.extract(pat = '(\\d*)d')\n",
    "    \n",
    "    #Replace Nan-Values\n",
    "    values = {'job':'unknown', 'boat_body':'unknown', 'pound': 0, 'shilling': 0, 'pence': 0}\n",
    "    result_df = result_df.fillna(value=values)\n",
    "    \n",
    "    result_df['ticketprice'] = result_df['pound'].astype('float64') + result_df['shilling'].astype('float64') / 20 + result_df['pence'].astype('float64') / 240\n",
    "    \n",
    "    #clean Age column with years (m=months)\n",
    "    result_Age = result_df.loc[result_df['age'].str.contains('m') == True, ['age']] = round((1/12) * result_df['age'].str.split('m').str[0].astype('float64'), 1)\n",
    "    \n",
    "    #insert new columns\n",
    "    result_df.insert(1, 'sex', np.NaN)\n",
    "    result_df.insert(3, 'is_adult', np.NaN)\n",
    "    result_df.insert(4, 'is_passenger', np.NaN)\n",
    "    \n",
    "    # Give is_Adult values\n",
    "    result_df['age']= result_df['age'].astype(float)\n",
    "    is_adult = result_df.loc[result_df['age'] > 17, ['is_adult']] = True\n",
    "    is_adult = result_df.loc[result_df['age'] < 18, ['is_adult']] = False\n",
    "    #result_df['is_adult'] = result_df.loc[result_df['age'] < 18, ['is_adult']] == False\n",
    "    \n",
    "    \n",
    "    # is_passenger soll True sein, falls class_dept in ['1st Class Passenger', '2nd Class Passenger', '3rd Class Passenger',] ist.\n",
    "    result_df['is_passenger'] = result_df['class_dept'].isin(['1st Class Passenger', '2nd Class Passenger', '3rd Class Passenger'])\n",
    "    \n",
    "    # split name for salutation\n",
    "    result_df.insert(0, 'salutation', np.NaN)\n",
    "    result_df['salutation'] = result_df['name'].str.split(',', n=1, expand = False).str[1]\n",
    "    result_df['salutation'] = result_df['salutation'].str.split(' ', n=1, expand = False).str[0]\n",
    "    result_df['salutation'] = result_df['salutation'].str.extract(pat = '([A-Z][a-z]*)')\n",
    "    \n",
    "    \n",
    "    # Mapping for sex\n",
    "    result_df['sex'] = result_df['salutation'].map({'Mr': 'Male', 'Master': 'Male', 'Major': 'Male', 'Dr': 'Male', 'Sig': 'Male', 'Colonel': 'Male',\n",
    "                                                      'Revd': 'Male', 'Fr': 'Male', 'Rev': 'Male', 'Captain': 'Male', 'Sr': 'Male', 'Don': 'Male', \n",
    "                                                      'Col': 'Male', 'Sir': 'Male', 'Mme': 'Female', 'Lucy':'Female', 'Sra': 'Female', \n",
    "                                                      'Mlle': 'Female', 'Mrs': 'Female', 'Miss': 'Female', 'Do': 'Female', 'Ms': 'Female'})\n",
    "    \n",
    "    # Mapping for sex special case Alice May\n",
    "    result_df.loc[result_df.name.str.contains('Alice May') == True, ['sex']] = 'Female'\n",
    "    \n",
    "    # delete not needed column salutation\n",
    "    result_df = result_df.drop(columns=['salutation', 'pound', 'shilling', 'pence'])\n",
    "    \n",
    "    # sort dataframe --> familyname\n",
    "    cleaned_result_df = result_df.sort_values(by=['name'], ascending=True)\n",
    "    cleaned_result_df.to_csv('titanic.csv')\n",
    "    #print(cleaned_result_df['sex'].value_counts())\n",
    "    #print(len(cleaned_result_df))\n",
    "    \n",
    "    \n",
    "    return cleaned_result_df"
   ]
  },
  {
   "cell_type": "code",
   "execution_count": 139,
   "metadata": {},
   "outputs": [
    {
     "data": {
      "text/html": [
       "<div>\n",
       "<style scoped>\n",
       "    .dataframe tbody tr th:only-of-type {\n",
       "        vertical-align: middle;\n",
       "    }\n",
       "\n",
       "    .dataframe tbody tr th {\n",
       "        vertical-align: top;\n",
       "    }\n",
       "\n",
       "    .dataframe thead th {\n",
       "        text-align: right;\n",
       "    }\n",
       "</style>\n",
       "<table border=\"1\" class=\"dataframe\">\n",
       "  <thead>\n",
       "    <tr style=\"text-align: right;\">\n",
       "      <th></th>\n",
       "      <th>name</th>\n",
       "      <th>sex</th>\n",
       "      <th>age</th>\n",
       "      <th>is_adult</th>\n",
       "      <th>is_passenger</th>\n",
       "      <th>class_dept</th>\n",
       "      <th>ticketprice</th>\n",
       "      <th>joined</th>\n",
       "      <th>job</th>\n",
       "      <th>boat_body</th>\n",
       "      <th>survived</th>\n",
       "    </tr>\n",
       "  </thead>\n",
       "  <tbody>\n",
       "    <tr>\n",
       "      <td>0</td>\n",
       "      <td>ABBING, Mr Anthony</td>\n",
       "      <td>Male</td>\n",
       "      <td>41.0</td>\n",
       "      <td>True</td>\n",
       "      <td>True</td>\n",
       "      <td>3rd Class Passenger</td>\n",
       "      <td>7.550</td>\n",
       "      <td>Southampton</td>\n",
       "      <td>Blacksmith</td>\n",
       "      <td>unknown</td>\n",
       "      <td>False</td>\n",
       "    </tr>\n",
       "    <tr>\n",
       "      <td>1496</td>\n",
       "      <td>ABBOTT, Mrs Rhoda Mary 'Rosa'</td>\n",
       "      <td>Female</td>\n",
       "      <td>39.0</td>\n",
       "      <td>True</td>\n",
       "      <td>True</td>\n",
       "      <td>3rd Class Passenger</td>\n",
       "      <td>20.250</td>\n",
       "      <td>Southampton</td>\n",
       "      <td>unknown</td>\n",
       "      <td>A</td>\n",
       "      <td>True</td>\n",
       "    </tr>\n",
       "    <tr>\n",
       "      <td>3</td>\n",
       "      <td>ABBOTT, Mr Ernest Owen</td>\n",
       "      <td>Male</td>\n",
       "      <td>21.0</td>\n",
       "      <td>True</td>\n",
       "      <td>False</td>\n",
       "      <td>Victualling Crew</td>\n",
       "      <td>0.000</td>\n",
       "      <td>Southampton</td>\n",
       "      <td>Lounge Pantry Steward</td>\n",
       "      <td>unknown</td>\n",
       "      <td>False</td>\n",
       "    </tr>\n",
       "    <tr>\n",
       "      <td>2</td>\n",
       "      <td>ABBOTT, Mr Eugene Joseph</td>\n",
       "      <td>Male</td>\n",
       "      <td>13.0</td>\n",
       "      <td>False</td>\n",
       "      <td>True</td>\n",
       "      <td>3rd Class Passenger</td>\n",
       "      <td>20.250</td>\n",
       "      <td>Southampton</td>\n",
       "      <td>Scholar</td>\n",
       "      <td>unknown</td>\n",
       "      <td>False</td>\n",
       "    </tr>\n",
       "    <tr>\n",
       "      <td>1</td>\n",
       "      <td>ABBOTT, Mr Rossmore Edward</td>\n",
       "      <td>Male</td>\n",
       "      <td>16.0</td>\n",
       "      <td>False</td>\n",
       "      <td>True</td>\n",
       "      <td>3rd Class Passenger</td>\n",
       "      <td>20.250</td>\n",
       "      <td>Southampton</td>\n",
       "      <td>Jeweller</td>\n",
       "      <td>[190]</td>\n",
       "      <td>False</td>\n",
       "    </tr>\n",
       "    <tr>\n",
       "      <td>1497</td>\n",
       "      <td>ABELSETH, Miss Karen Marie</td>\n",
       "      <td>Female</td>\n",
       "      <td>16.0</td>\n",
       "      <td>False</td>\n",
       "      <td>True</td>\n",
       "      <td>3rd Class Passenger</td>\n",
       "      <td>7.650</td>\n",
       "      <td>Southampton</td>\n",
       "      <td>unknown</td>\n",
       "      <td>16</td>\n",
       "      <td>True</td>\n",
       "    </tr>\n",
       "    <tr>\n",
       "      <td>1498</td>\n",
       "      <td>ABELSETH, Mr Olaus Jørgensen</td>\n",
       "      <td>Male</td>\n",
       "      <td>25.0</td>\n",
       "      <td>True</td>\n",
       "      <td>True</td>\n",
       "      <td>3rd Class Passenger</td>\n",
       "      <td>7.650</td>\n",
       "      <td>Southampton</td>\n",
       "      <td>Farmer</td>\n",
       "      <td>A</td>\n",
       "      <td>True</td>\n",
       "    </tr>\n",
       "    <tr>\n",
       "      <td>1499</td>\n",
       "      <td>ABELSON, Mrs Anna</td>\n",
       "      <td>Female</td>\n",
       "      <td>24.0</td>\n",
       "      <td>True</td>\n",
       "      <td>True</td>\n",
       "      <td>2nd Class Passenger</td>\n",
       "      <td>24.000</td>\n",
       "      <td>Cherbourg</td>\n",
       "      <td>unknown</td>\n",
       "      <td>10</td>\n",
       "      <td>True</td>\n",
       "    </tr>\n",
       "    <tr>\n",
       "      <td>4</td>\n",
       "      <td>ABELSON, Mr Samuel</td>\n",
       "      <td>Male</td>\n",
       "      <td>30.0</td>\n",
       "      <td>True</td>\n",
       "      <td>True</td>\n",
       "      <td>2nd Class Passenger</td>\n",
       "      <td>24.000</td>\n",
       "      <td>Cherbourg</td>\n",
       "      <td>unknown</td>\n",
       "      <td>unknown</td>\n",
       "      <td>False</td>\n",
       "    </tr>\n",
       "    <tr>\n",
       "      <td>1500</td>\n",
       "      <td>ABRAHAMSSON, Mr August Abraham Johannes</td>\n",
       "      <td>Male</td>\n",
       "      <td>19.0</td>\n",
       "      <td>True</td>\n",
       "      <td>True</td>\n",
       "      <td>3rd Class Passenger</td>\n",
       "      <td>7.925</td>\n",
       "      <td>Southampton</td>\n",
       "      <td>unknown</td>\n",
       "      <td>15</td>\n",
       "      <td>True</td>\n",
       "    </tr>\n",
       "  </tbody>\n",
       "</table>\n",
       "</div>"
      ],
      "text/plain": [
       "                                         name     sex   age is_adult  \\\n",
       "0                          ABBING, Mr Anthony    Male  41.0     True   \n",
       "1496            ABBOTT, Mrs Rhoda Mary 'Rosa'  Female  39.0     True   \n",
       "3                      ABBOTT, Mr Ernest Owen    Male  21.0     True   \n",
       "2                    ABBOTT, Mr Eugene Joseph    Male  13.0    False   \n",
       "1                  ABBOTT, Mr Rossmore Edward    Male  16.0    False   \n",
       "1497               ABELSETH, Miss Karen Marie  Female  16.0    False   \n",
       "1498             ABELSETH, Mr Olaus Jørgensen    Male  25.0     True   \n",
       "1499                        ABELSON, Mrs Anna  Female  24.0     True   \n",
       "4                          ABELSON, Mr Samuel    Male  30.0     True   \n",
       "1500  ABRAHAMSSON, Mr August Abraham Johannes    Male  19.0     True   \n",
       "\n",
       "      is_passenger           class_dept  ticketprice       joined  \\\n",
       "0             True  3rd Class Passenger        7.550  Southampton   \n",
       "1496          True  3rd Class Passenger       20.250  Southampton   \n",
       "3            False     Victualling Crew        0.000  Southampton   \n",
       "2             True  3rd Class Passenger       20.250  Southampton   \n",
       "1             True  3rd Class Passenger       20.250  Southampton   \n",
       "1497          True  3rd Class Passenger        7.650  Southampton   \n",
       "1498          True  3rd Class Passenger        7.650  Southampton   \n",
       "1499          True  2nd Class Passenger       24.000    Cherbourg   \n",
       "4             True  2nd Class Passenger       24.000    Cherbourg   \n",
       "1500          True  3rd Class Passenger        7.925  Southampton   \n",
       "\n",
       "                        job boat_body  survived  \n",
       "0                Blacksmith   unknown     False  \n",
       "1496                unknown         A      True  \n",
       "3     Lounge Pantry Steward   unknown     False  \n",
       "2                   Scholar   unknown     False  \n",
       "1                  Jeweller     [190]     False  \n",
       "1497                unknown        16      True  \n",
       "1498                 Farmer         A      True  \n",
       "1499                unknown        10      True  \n",
       "4                   unknown   unknown     False  \n",
       "1500                unknown        15      True  "
      ]
     },
     "execution_count": 139,
     "metadata": {},
     "output_type": "execute_result"
    }
   ],
   "source": [
    "titanic_df = cleanFile(titanic_victims_df, titanic_survivors_df)\n",
    "titanic_df.head(10)"
   ]
  },
  {
   "cell_type": "markdown",
   "metadata": {
    "deletable": false,
    "editable": false,
    "nbgrader": {
     "cell_type": "markdown",
     "checksum": "f7e861d2c12e0ca5e04206a1dc86884e",
     "grade": false,
     "grade_id": "cell-207ea83b23603f1e",
     "locked": true,
     "schema_version": 3,
     "solution": false
    }
   },
   "source": [
    "### Aufgabe 2 (8 Punkte)\n",
    "\n",
    "Wieviele Personen sind es insgesamt?  \n",
    "\n",
    "Wieviele Personen ohne Ticketpreis?  \n",
    "\n",
    "Wieviele Personen ohne Altersangabe?  \n",
    "\n",
    "Wieviele Personen männlichen und weiblichen Geschlechts fanden sich gemäss unserem Datensatz auf der Titanic?  \n",
    "\n",
    "Wie viele Kinder, welchen Geschlechts?  \n",
    "\n",
    "Was war der durchschnittliche Preis für eine Fahrkarte?  \n",
    "\n",
    "Was war das Durchschnittsalter der Besatzungsmitglieder? Was war das Durchschnittsalter der Passagiere?"
   ]
  },
  {
   "cell_type": "code",
   "execution_count": 135,
   "metadata": {
    "deletable": false,
    "nbgrader": {
     "cell_type": "code",
     "checksum": "839c78de974cc72fdfd38654071168f4",
     "grade": true,
     "grade_id": "cell-8fb2fb6345810160",
     "locked": false,
     "points": 8,
     "schema_version": 3,
     "solution": true
    }
   },
   "outputs": [
    {
     "name": "stdout",
     "output_type": "stream",
     "text": [
      "Es sind insgesamt 2208 Personen\n",
      "Es gibt insgesamt 0 Personen ohne Tickets\n",
      "Es gibt insgesamt 917 Personen ohne Tickets\n",
      "Es gibt insgesamt 3 Personen die keine Altersangabe haben\n",
      "--------------------------------------------\n",
      "Anzahl Frauen und Männer:  Male      1719\n",
      "Female     489\n",
      "Name: sex, dtype: int64\n",
      "--------------------------------------------\n",
      "Es gibt insgesamt 203 Kinder\n",
      "Anzahl Mädchen und Jungs auf der Titanic: sex\n",
      "Female     82\n",
      "Male      121\n",
      "Name: age, dtype: int64\n",
      "--------------------------------------------\n",
      "Der Durchschnittliche Ticketpreis für eine Fahrkarte war: 19.74 Pfund\n",
      "Das Durchschnittsalter der Besatzungsmitglieder ist: 30.85 Jahre\n",
      "Das Durchschnittsalter der Passagiere ist: 31.42 Jahre\n"
     ]
    }
   ],
   "source": [
    "# Wieviele Personen sind es insgesamt?\n",
    "print('Es sind insgesamt', len(titanic_df['is_passenger']), 'Personen')\n",
    "\n",
    "# Wieviele Personen ohne Ticketpreis?\n",
    "print('Es gibt insgesamt', titanic_df['ticketprice'].isna().sum(), 'Personen ohne Tickets')\n",
    "print('Es gibt insgesamt', (titanic_df['ticketprice']== 0.0).sum(), 'Personen ohne Tickets')\n",
    "\n",
    "# Wieviele Personen ohne Altersangabe?\n",
    "print('Es gibt insgesamt', titanic_df['is_adult'].isna().sum(), 'Personen die keine Altersangabe haben')\n",
    "print('--------------------------------------------')\n",
    "\n",
    "# Wieviele Personen männlichen und weiblichen Geschlechts fanden sich gemäss unserem Datensatz auf der Titanic?\n",
    "print('Anzahl Frauen und Männer: ', titanic_df['sex'].value_counts())\n",
    "print('--------------------------------------------')\n",
    "\n",
    "# Wie viele Kinder, welchen Geschlechts? \n",
    "children = titanic_df.loc[titanic_df['is_adult'] == False]\n",
    "print('Es gibt insgesamt', children['is_adult'].count(), 'Kinder')\n",
    "print('Anzahl Mädchen und Jungs auf der Titanic:', children.groupby(['sex']).count().age)\n",
    "print('--------------------------------------------')\n",
    "\n",
    "# Was war der durchschnittliche Preis für eine Fahrkarte?\n",
    "mean = titanic_df['ticketprice'].mean()\n",
    "print('Der Durchschnittliche Ticketpreis für eine Fahrkarte war:', '{:.2f}'.format(mean), 'Pfund')\n",
    "\n",
    "#Was war das Durchschnittsalter der Besatzungsmitglieder?\n",
    "array_staff = ['Engineering Crew', 'Restaurant Staff', 'Victualling Crew', 'Deck Crew']\n",
    "staff_result= titanic_df[titanic_df.class_dept.isin(array_staff)]\n",
    "staff = staff_result.groupby(['class_dept']).mean().age.mean()\n",
    "print('Das Durchschnittsalter der Besatzungsmitglieder ist:', '{:.2f}'.format(staff), 'Jahre')\n",
    "\n",
    "#Was war das Durchschnittsalter der Passagiere?\n",
    "array_passenger = ['3rd Class Passenger', '1st Class Passenger', '2nd Class Passenger']\n",
    "passenger_result= titanic_df[titanic_df.class_dept.isin(array_passenger)]\n",
    "passenger = passenger_result.groupby(['class_dept']).mean().age.mean()\n",
    "print('Das Durchschnittsalter der Passagiere ist:', '{:.2f}'.format(passenger), 'Jahre')\n",
    "\n",
    "#itanic_df.head(5)"
   ]
  },
  {
   "cell_type": "markdown",
   "metadata": {
    "deletable": false,
    "editable": false,
    "nbgrader": {
     "cell_type": "markdown",
     "checksum": "c7377b8ddcf6a7953126f73cb20d3b1b",
     "grade": false,
     "grade_id": "cell-4d7a01775a71c9de",
     "locked": true,
     "schema_version": 3,
     "solution": false
    }
   },
   "source": [
    "### Aufgabe 3 (3 Punkte)\n",
    "\n",
    "Erstellen Sie eine Kreuztabelle von Einstiegsort und `class_dept`.  \n",
    "\n",
    "Visualisieren Sie die Tabelle.  \n",
    "Wir wissen, dass die Titanic von *Belfast*, wo sie gebaut wurde, nach *Southhampton*, nach *Cherbourg* und dann nach *Queenstown* fuhr, bevor Sie zur Atlantiküberfahrt auslief.  \n",
    "\n",
    "Diskutieren Sie Ihre Erkenntnisse."
   ]
  },
  {
   "cell_type": "code",
   "execution_count": 96,
   "metadata": {
    "deletable": false,
    "nbgrader": {
     "cell_type": "code",
     "checksum": "afaac1abff3b18eb2f86c8bbef13f6a4",
     "grade": true,
     "grade_id": "cell-2f22259cab208507",
     "locked": false,
     "points": 2,
     "schema_version": 3,
     "solution": true
    }
   },
   "outputs": [
    {
     "data": {
      "image/png": "[encoded data removed]",
      "text/plain": [
       "<Figure size 1440x576 with 2 Axes>"
      ]
     },
     "metadata": {
      "needs_background": "light"
     },
     "output_type": "display_data"
    }
   ],
   "source": [
    "# Create crosstable\n",
    "pd.crosstab(titanic_df['joined'], titanic_df['class_dept']) # Reihenfolge?\n",
    "ct = pd.crosstab(titanic_df['joined'], titanic_df['class_dept']) # Reihenfolge?\n",
    "fig, ax = plt.subplots(figsize=(20, 8))\n",
    "im = ax.imshow(ct.values, aspect='auto')\n",
    "_ = ax.set_xticks(range(len(ct.columns)))\n",
    "_ = ax.set_xticklabels(ct.columns)\n",
    "_ = ax.set_yticks(range(len(ct.index)))\n",
    "_ = ax.set_yticklabels(ct.index)\n",
    "_ = plt.colorbar(im)"
   ]
  },
  {
   "cell_type": "markdown",
   "metadata": {
    "deletable": false,
    "nbgrader": {
     "cell_type": "markdown",
     "checksum": "591fd4ad6d12f47a68050cd2e6c36f88",
     "grade": true,
     "grade_id": "cell-a1e262ce45e81602",
     "locked": false,
     "points": 1,
     "schema_version": 3,
     "solution": true
    }
   },
   "source": [
    "Antwort zur Kreuztabelle"
   ]
  },
  {
   "cell_type": "markdown",
   "metadata": {
    "deletable": false,
    "editable": false,
    "nbgrader": {
     "cell_type": "markdown",
     "checksum": "85e38ec3d29d72f67591f320c0cbc36c",
     "grade": false,
     "grade_id": "cell-117bf6f33d8eb084",
     "locked": true,
     "schema_version": 3,
     "solution": false,
     "task": false
    }
   },
   "source": [
    "### Aufgabe 4 (5 Punkte)\n",
    "\n",
    "Visualisieren Sie die Altersverteilung für die beiden Geschlechter und gleichzeitig für Variable `class_dept` mit Boxplots.  \n",
    "\n",
    "Diskutieren Sie die Visualisierung.\n",
    "- Erklären Sie was ein Boxplot zeigt.\n",
    "- Was für Information fehlt?\n",
    "- Was können wir zu den vorliegenden Daten aus dieser Darstellung lesen?"
   ]
  },
  {
   "cell_type": "code",
   "execution_count": null,
   "metadata": {},
   "outputs": [],
   "source": [
    "#boxplot = titanic_df.boxplot(by='sex')\n",
    "print(titanic_df.sex.value_counts())\n",
    "print(titanic_df.class_dept.value_counts())\n",
    "\n",
    "#titanic_df['age_dist']=titanic_df['sex']+titanic_df['class_dept']\n",
    "#print(titanic_df.age_dist.value_counts())\n",
    "\n",
    "#titanic_df['age_dist'] = titanic_df['sex'].combine_first(titanic_df['class_dept'])\n",
    "#titanic_df['sex'].append(titanic_df['class_dept'], ignore_index=True)\n",
    "print('------------')\n",
    "#titanic_df['age_dist']=titanic_df['sex'].apply(titanic_df['class_dept'])\n",
    "#print(titanic_df.sex)\n",
    "\n",
    "#pd.concat([df1['WM'].append(df1['WL']\n",
    "\n",
    "mixed = []\n"
   ]
  },
  {
   "cell_type": "code",
   "execution_count": null,
   "metadata": {},
   "outputs": [],
   "source": [
    "titanic_df.boxplot(by=['age_dist'], column='age', figsize=(32,10))"
   ]
  },
  {
   "cell_type": "code",
   "execution_count": null,
   "metadata": {},
   "outputs": [],
   "source": [
    "titanic_df.boxplot(by=['class_dept'], column='age', figsize=(24,8))"
   ]
  },
  {
   "cell_type": "code",
   "execution_count": null,
   "metadata": {},
   "outputs": [],
   "source": [
    "titanic_df.boxplot(by=['sex'], column='age', figsize=(12,6))"
   ]
  },
  {
   "cell_type": "code",
   "execution_count": 115,
   "metadata": {
    "deletable": false,
    "nbgrader": {
     "cell_type": "code",
     "checksum": "b84db5ed8a26498001ed4f4c91781fcf",
     "grade": true,
     "grade_id": "cell-8d52292df9aef5f4",
     "locked": false,
     "points": 2,
     "schema_version": 3,
     "solution": true
    }
   },
   "outputs": [
    {
     "data": {
      "image/png": "[encoded data removed]",
      "text/plain": [
       "<Figure size 360x360 with 1 Axes>"
      ]
     },
     "metadata": {
      "needs_background": "light"
     },
     "output_type": "display_data"
    }
   ],
   "source": [
    "y = titanic_df['age'].count()\n",
    "x = titanic_df['sex']\n",
    "_ = sns.catplot(data=titanic_df, x='sex', y='age', kind='box')"
   ]
  },
  {
   "cell_type": "code",
   "execution_count": null,
   "metadata": {},
   "outputs": [],
   "source": [
    "#dd = pd.melt(titanic_df,id_vars=['age'],value_vars=['sex','class_dept'],var_name='age')\n",
    "#sns.boxplot(x='Group',y='value',data=dd,hue='age')"
   ]
  },
  {
   "cell_type": "markdown",
   "metadata": {
    "deletable": false,
    "nbgrader": {
     "cell_type": "markdown",
     "checksum": "538f5c54cda6ee80d9a4aa49d2cef330",
     "grade": true,
     "grade_id": "cell-522357d7ca7c0815",
     "locked": false,
     "points": 3,
     "schema_version": 3,
     "solution": true
    }
   },
   "source": [
    "YOUR ANSWER HERE"
   ]
  },
  {
   "cell_type": "markdown",
   "metadata": {
    "deletable": false,
    "editable": false,
    "nbgrader": {
     "cell_type": "markdown",
     "checksum": "fbc8d3b5ef52e8f45ef814092ee6aa53",
     "grade": false,
     "grade_id": "cell-de940ef5186007a4",
     "locked": true,
     "schema_version": 3,
     "solution": false
    }
   },
   "source": [
    "### Aufgabe 5 (4 Punkte)\n",
    "\n",
    "Zeichnen Sie die Verteilung des Alters sämtlicher Passagiere als Histogramm.  \n",
    "\n",
    "Beschreiben Sie die Verteilung bezüglich Lage, Streuung und Form.  \n",
    "\n",
    "Sie dürfen verschiedene Ansätze verwenden und deren Resultate und Eigenschaften diskutieren."
   ]
  },
  {
   "cell_type": "code",
   "execution_count": 152,
   "metadata": {
    "deletable": false,
    "nbgrader": {
     "cell_type": "code",
     "checksum": "9d85e770aa6d1b13e4093447b1c546fd",
     "grade": true,
     "grade_id": "cell-f01b4c0ad9316fa9",
     "locked": false,
     "points": 3,
     "schema_version": 3,
     "solution": true
    }
   },
   "outputs": [
    {
     "name": "stdout",
     "output_type": "stream",
     "text": [
      "Standardabweichung der Visualisierung: 12.22\n",
      "Maximal Alter: 74.0\n",
      "Minimal Alter: 0.2\n",
      "Spannweite von Altersverteilung: 73.8\n"
     ]
    },
    {
     "data": {
      "image/png": "[encoded data removed]",
      "text/plain": [
       "<Figure size 1152x576 with 1 Axes>"
      ]
     },
     "metadata": {
      "needs_background": "light"
     },
     "output_type": "display_data"
    }
   ],
   "source": [
    "import warnings\n",
    "warnings.filterwarnings(\"ignore\", category=RuntimeWarning) \n",
    "warnings.filterwarnings(\"ignore\", category=FutureWarning) \n",
    "\n",
    "fig, ax = plt.subplots(figsize=(16,8))\n",
    "_ = sns.distplot(titanic_df['age'], kde=True, bins='fd')\n",
    "\n",
    "# Lage der Verteilung\n",
    "mean=titanic_df['age'].mean()\n",
    "median=titanic_df['age'].median()\n",
    "mode=titanic_df['age'].mode().get_values()[0]\n",
    "\n",
    "ax.axvline(mean, color='r', linestyle='--')\n",
    "ax.axvline(median, color='g', linestyle='-')\n",
    "ax.axvline(mode, color='b', linestyle='-')\n",
    "\n",
    "plt.legend({'Mean':mean,'Median':median,'Mode':mode})\n",
    "\n",
    "# Streuung der Verteilung\n",
    "std = titanic_df['age'].std()\n",
    "print('Standardabweichung der Visualisierung:', '{:.2f}'.format(std))\n",
    "print('Maximal Alter:',titanic_df['age'].max())\n",
    "print('Minimal Alter:',titanic_df['age'].min())\n",
    "print('Spannweite von Altersverteilung:', titanic_df['age'].max() - titanic_df['age'].min())\n",
    "\n",
    "# Form der Verteilung\n",
    "# Die Visualisierung hat eine linkssschiefe Verteilung"
   ]
  },
  {
   "cell_type": "markdown",
   "metadata": {
    "deletable": false,
    "nbgrader": {
     "cell_type": "markdown",
     "checksum": "21c8dfc70431930eea85c4cde6c9abb3",
     "grade": true,
     "grade_id": "cell-9b76cbb127b7095d",
     "locked": false,
     "points": 1,
     "schema_version": 3,
     "solution": true
    }
   },
   "source": [
    "YOUR ANSWER HERE"
   ]
  },
  {
   "cell_type": "markdown",
   "metadata": {
    "deletable": false,
    "editable": false,
    "nbgrader": {
     "cell_type": "markdown",
     "checksum": "b253c4f3537f2b79bb6117ea4da9180a",
     "grade": false,
     "grade_id": "cell-f2a21ef8278416fe",
     "locked": true,
     "schema_version": 3,
     "solution": false
    }
   },
   "source": [
    "### Aufgabe 6 (3 Punkte)\n",
    "\n",
    "Führen Sie die Schritte aus Aufgabe 5 für den Ticketpreis aus.  \n",
    "\n",
    "Visualisieren Sie zusätzlich die kumulative Verteilung.  \n",
    "\n",
    "Diskutieren Sie Ihre Erkenntnisse."
   ]
  },
  {
   "cell_type": "code",
   "execution_count": 140,
   "metadata": {
    "deletable": false,
    "nbgrader": {
     "cell_type": "code",
     "checksum": "5e14fc6c07fccc91951bdfa92a8e1878",
     "grade": true,
     "grade_id": "cell-5937418744d48531",
     "locked": false,
     "points": 2,
     "schema_version": 3,
     "solution": true
    }
   },
   "outputs": [
    {
     "name": "stdout",
     "output_type": "stream",
     "text": [
      "Standardabweichung der Visualisierung: 43.26\n",
      "Maximaler Ticketpreis: 512.33\n",
      "Minimaler Ticketpreis: 0.00\n",
      "Spannweite von Ticketpreisverteilung: 512.33\n"
     ]
    },
    {
     "data": {
      "image/png": "[encoded data removed]",
      "text/plain": [
       "<Figure size 1152x720 with 1 Axes>"
      ]
     },
     "metadata": {
      "needs_background": "light"
     },
     "output_type": "display_data"
    }
   ],
   "source": [
    "import warnings\n",
    "warnings.filterwarnings(\"ignore\", category=RuntimeWarning) \n",
    "warnings.filterwarnings(\"ignore\", category=FutureWarning) \n",
    "\n",
    "fig, ax = plt.subplots(figsize=(16,10))\n",
    "_ = sns.distplot(titanic_df['ticketprice'], kde=True, bins='fd')\n",
    "\n",
    "# Lage der Verteilung\n",
    "mean=titanic_df['ticketprice'].mean()\n",
    "median=titanic_df['ticketprice'].median()\n",
    "mode=titanic_df['ticketprice'].mode().get_values()[0]\n",
    "\n",
    "ax.axvline(mean, color='r', linestyle='--')\n",
    "ax.axvline(median, color='g', linestyle='-')\n",
    "ax.axvline(mode, color='b', linestyle='-')\n",
    "\n",
    "plt.legend({'Mean':mean,'Median':median,'Mode':mode})\n",
    "\n",
    "# Streuung der Verteilung\n",
    "std = titanic_df['ticketprice'].std()\n",
    "max_ticket = titanic_df['ticketprice'].max()\n",
    "min_ticket = titanic_df['ticketprice'].min()\n",
    "print('Standardabweichung der Visualisierung:', '{:.2f}'.format(std))\n",
    "print('Maximaler Ticketpreis:', '{:.2f}'.format(max_ticket))\n",
    "print('Minimaler Ticketpreis:', '{:.2f}'.format(min_ticket))\n",
    "print('Spannweite von Ticketpreisverteilung:', '{:.2f}'.format(max_ticket - min_ticket))\n",
    "\n",
    "# Form der Verteilung\n",
    "counts, bins = np.histogram(x, bins='fd')# Die Visualisierung hat eine Heavy-Tail-Verteilung welche linksschief ist???"
   ]
  },
  {
   "cell_type": "code",
   "execution_count": 154,
   "metadata": {},
   "outputs": [
    {
     "data": {
      "image/png": "[encoded data removed]",
      "text/plain": [
       "<Figure size 1152x720 with 1 Axes>"
      ]
     },
     "metadata": {
      "needs_background": "light"
     },
     "output_type": "display_data"
    }
   ],
   "source": [
    "mu = 8.\n",
    "sigma = 2.5\n",
    "x = mu + titanic_df['ticketprice'] *sigma\n",
    "counts, bins = np.histogram(x, bins='fd')\n",
    "mean = x.mean()\n",
    "std = x.std()\n",
    "\n",
    "fig, ax = plt.subplots(ncols=1, nrows=1, figsize=(16, 10))\n",
    "\n",
    "quart_l, quart_u = np.percentile(titanic_df['ticketprice'], [25, 75])\n",
    "quant_10, quant_90 = np.percentile(titanic_df['ticketprice'], [10, 90])\n",
    "\n",
    "\n",
    "_ = ax.step(bins[1:], (counts/counts.sum()).cumsum())\n",
    "ymax = ax.get_ylim()[1]\n",
    "xmin, xmax = ax.get_xlim()\n",
    "# quartiles\n",
    "_ = ax.vlines(median, 0, ymax, color='green', label='median')\n",
    "_ = ax.vlines(quart_l, 0, 0.25, color='green', linestyle='--',\n",
    "label='quartiles')\n",
    "_ = ax.hlines(0.25, xmin, quart_l, color='green', linestyle='--')\n",
    "_ = ax.vlines(quart_u, 0, 0.75, color='green', linestyle='--')\n",
    "_ = ax.hlines(0.75, xmin, quart_u, color='green', linestyle='--')\n",
    "# quantiles\n",
    "_ = ax.vlines(quant_10, 0, 0.1, color='lightgreen', linestyle='--',\n",
    "label='quantiles')\n",
    "_ = ax.hlines(0.1, xmin, quant_10, color='lightgreen', linestyle='--')\n",
    "_ = ax.vlines(quant_90, 0, 0.9, color='lightgreen', linestyle='--')\n",
    "_ = ax.hlines(0.9, xmin, quant_90, color='lightgreen', linestyle='--')\n",
    "#_ = ax.set_"
   ]
  },
  {
   "cell_type": "markdown",
   "metadata": {
    "deletable": false,
    "nbgrader": {
     "cell_type": "markdown",
     "checksum": "3e94c57bae996588a870c98da4104024",
     "grade": true,
     "grade_id": "cell-ee214286db6eb48d",
     "locked": false,
     "points": 1,
     "schema_version": 3,
     "solution": true
    }
   },
   "source": [
    "YOUR ANSWER HERE"
   ]
  },
  {
   "cell_type": "markdown",
   "metadata": {
    "deletable": false,
    "editable": false,
    "nbgrader": {
     "cell_type": "markdown",
     "checksum": "54c12d815f4adc0d83bcac441a830f58",
     "grade": false,
     "grade_id": "cell-b8f95ee703ccede8",
     "locked": true,
     "schema_version": 3,
     "solution": false
    }
   },
   "source": [
    "### Aufgabe 7 (3 Punkte)\n",
    "\n",
    "Was sind die häufigsten 10 Berufe der Passagiere, welche oberhalb des $Q_{0.9}$-Quantils des Ticketpreises liegen?  \n",
    "\n",
    "Was sind die häufigsten 10 Berufe der Passagiere, welche unterhalb des $Q_{0.1}$-Quantils des Ticketpreises liegen?  \n",
    "\n",
    "Wie oft kommen die Berufe jeweils vor?  \n",
    "Wie interpretieren Sie das Resultat?"
   ]
  },
  {
   "cell_type": "code",
   "execution_count": 130,
   "metadata": {
    "deletable": false,
    "nbgrader": {
     "cell_type": "code",
     "checksum": "f0bc25fab524bc325550c5de37dbf7c6",
     "grade": true,
     "grade_id": "cell-7e95afaa33b94398",
     "locked": false,
     "points": 2,
     "schema_version": 3,
     "solution": true
    }
   },
   "outputs": [
    {
     "name": "stdout",
     "output_type": "stream",
     "text": [
      "1.0 6.0\n"
     ]
    }
   ],
   "source": [
    "y = titanic_df['ticketprice']\n",
    "x = titanic_df['job'].value_counts(ascending=False)\n",
    "\n",
    "quant_10, quant_90 = np.percentile(x, [10, 90])\n",
    "\n",
    "print(quant_10, quant_90)\n",
    "#_ = sns.catplot(data=titanic_df, x='job', y='ticketprice', kind='box')"
   ]
  },
  {
   "cell_type": "markdown",
   "metadata": {
    "deletable": false,
    "nbgrader": {
     "cell_type": "markdown",
     "checksum": "9420f277a2e0595e0f698d18e87155ea",
     "grade": true,
     "grade_id": "cell-661a75ac62d29f3d",
     "locked": false,
     "points": 1,
     "schema_version": 3,
     "solution": true
    }
   },
   "source": [
    "YOUR ANSWER HERE"
   ]
  },
  {
   "cell_type": "markdown",
   "metadata": {
    "deletable": false,
    "editable": false,
    "nbgrader": {
     "cell_type": "markdown",
     "checksum": "85007ee0634365118302de9d7f7d11fc",
     "grade": false,
     "grade_id": "cell-f2f99921751f4d48",
     "locked": true,
     "schema_version": 3,
     "solution": false
    }
   },
   "source": [
    "### Aufgabe 8 (6 Punkte)\n",
    "\n",
    "Finden Sie ein paar wenige Visualisierungen, welche es ermöglichen, kompakt einen Eindruck zu bekommen, wer das Unglück der Titanic am wahrscheinlichsten überlebt hat.  \n",
    "\n",
    "Was ist ihre Erkenntnis?"
   ]
  },
  {
   "cell_type": "code",
   "execution_count": null,
   "metadata": {
    "deletable": false,
    "nbgrader": {
     "cell_type": "code",
     "checksum": "b129797b3ec6a7d4ae56cb19bf9aa335",
     "grade": true,
     "grade_id": "cell-4e6953caaff51560",
     "locked": false,
     "points": 3,
     "schema_version": 3,
     "solution": true
    }
   },
   "outputs": [],
   "source": [
    "# YOUR CODE HERE\n",
    "raise NotImplementedError()"
   ]
  },
  {
   "cell_type": "markdown",
   "metadata": {
    "deletable": false,
    "nbgrader": {
     "cell_type": "markdown",
     "checksum": "58cab7d7867f571cbbda9cbc7cb1ca4e",
     "grade": true,
     "grade_id": "cell-595efdc404624722",
     "locked": false,
     "points": 3,
     "schema_version": 3,
     "solution": true
    }
   },
   "source": [
    "YOUR ANSWER HERE"
   ]
  },
  {
   "cell_type": "markdown",
   "metadata": {
    "deletable": false,
    "editable": false,
    "nbgrader": {
     "cell_type": "markdown",
     "checksum": "02e98cff2ad8bc7726c866ec44051f12",
     "grade": false,
     "grade_id": "cell-17a949bb3f1f60ee",
     "locked": true,
     "schema_version": 3,
     "solution": false
    }
   },
   "source": [
    "### Aufgabe 9 (6 Punkte)\n",
    "\n",
    "Untersuchen Sie nun, ob das Alter einen Einfluss auf die Überlebenswahrscheinlichkeit hatte.  \n",
    "\n",
    "Teilen Sie die Passagiere dazu in Gruppen von Geschlecht und Altersjahrzenten ein.  \n",
    "Berechnen Sie für die jeweiligen Gruppen den Anteil der Überlebenden, sowie den [*Standard Error of the Mean* (SEM)](https://en.wikipedia.org/wiki/Standard_error).  \n",
    "\n",
    "Visualisieren Sie die Resultate übersichtlich und diskutieren Sie diese.  \n",
    "Was können wir durch die Visualisierung des SEM erkennen?"
   ]
  },
  {
   "cell_type": "code",
   "execution_count": null,
   "metadata": {
    "deletable": false,
    "nbgrader": {
     "cell_type": "code",
     "checksum": "2ace725e47f4c1c3ddd6e91691dfe0e6",
     "grade": true,
     "grade_id": "cell-72902c8d15d75e6f",
     "locked": false,
     "points": 4,
     "schema_version": 3,
     "solution": true
    }
   },
   "outputs": [],
   "source": [
    "# YOUR CODE HERE\n",
    "raise NotImplementedError()"
   ]
  },
  {
   "cell_type": "markdown",
   "metadata": {
    "deletable": false,
    "nbgrader": {
     "cell_type": "markdown",
     "checksum": "695de72dd7b7708b71526d5648af253c",
     "grade": true,
     "grade_id": "cell-cea72be4ed8fb883",
     "locked": false,
     "points": 2,
     "schema_version": 3,
     "solution": true
    }
   },
   "source": [
    "YOUR ANSWER HERE"
   ]
  }
 ],
 "metadata": {
  "kernelspec": {
   "display_name": "Python 3",
   "language": "python",
   "name": "python3"
  },
  "language_info": {
   "codemirror_mode": {
    "name": "ipython",
    "version": 3
   },
   "file_extension": ".py",
   "mimetype": "text/x-python",
   "name": "python",
   "nbconvert_exporter": "python",
   "pygments_lexer": "ipython3",
   "version": "3.7.3"
  },
  "widgets": {
   "state": {
    "dbc998941ccc427b90355fd1d11b0c07": {
     "views": [
      {
       "cell_index": 25
      }
     ]
    }
   },
   "version": "1.2.0"
  }
 },
 "nbformat": 4,
 "nbformat_minor": 4
}
