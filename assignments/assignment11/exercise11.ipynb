{
 "cells": [
  {
   "cell_type": "markdown",
   "metadata": {
    "deletable": false,
    "editable": false,
    "nbgrader": {
     "cell_type": "markdown",
     "checksum": "6b72014447ab552c0760447d54b26274",
     "grade": false,
     "grade_id": "header",
     "locked": true,
     "schema_version": 3,
     "solution": false
    }
   },
   "source": [
    "# DSP - Aufgabenblatt 11\n",
    "\n",
    "## Bewertete Übung\n",
    "\n",
    "#### FHNW - HS2019"
   ]
  },
  {
   "cell_type": "markdown",
   "metadata": {
    "deletable": false,
    "editable": false,
    "nbgrader": {
     "cell_type": "markdown",
     "checksum": "ac7a0c53a0ae24bbef6e395d1e65b18f",
     "grade": false,
     "grade_id": "cell-f66de17fc6068da5",
     "locked": true,
     "schema_version": 3,
     "solution": false
    }
   },
   "source": [
    "#### Vorgaben für die Zusammenarbeit\n",
    "\n",
    "Sie dürfen für die Lösung der Übung zusammenarbeiten, so lange sich ihre **Zusammenarbeit auf konzeptionelle und algorithmische Fragestellungen beschränkt**. Bei kopiertem Code oder Text (von Mitstudierenden oder dem Internet) werden alle Lösungen der beteiligten Parteien mit 0 Punkten bewertet. Dazu werden alle Lösungen manuell und automatisiert auf Kopien untersucht.  \n",
    "\n",
    "#### Abgabe\n",
    "\n",
    "Arbeiten Sie auf einem eigenen Fork des Repositories `https://gitlab.fhnw.ch/ml/courses/dsp/dsp_hs2019.git` zu welchem Sie den Dozenten (@michael.graber) als *Maintainer* hinzufügen. Committen Sie regelmässig. Als Abgabe gilt ihr **letzter Commit vor Montag, 23. Dezember 2019, 24 Uhr**."
   ]
  },
  {
   "cell_type": "markdown",
   "metadata": {
    "deletable": false,
    "editable": false,
    "nbgrader": {
     "cell_type": "markdown",
     "checksum": "a4ecf403b3209a149e0e2639373b7692",
     "grade": false,
     "grade_id": "cell-decacecdd1529d0d",
     "locked": true,
     "schema_version": 3,
     "solution": false
    }
   },
   "source": [
    "#### Hinweise\n",
    "- Der *Code* muss von Anfang bis Ende durchlaufen. Es wird nur Code bewertet, welcher beim automatischen Durchlaufen ausgeführt wird.    \n",
    "- Beschriften Sie sämtliche Achsen (Bezeichnung und Einheit wenn möglich).  \n",
    "- Ergänzen Sie den Plot mit zusätzlicher Beschriftung falls dies zum Verständnis des Plots notwendig ist.  \n",
    "- Wenn Sie einen Plot in einer Antwort diskutieren, beginnen Sie mit einer Beschreibung dessen was der Plot zeigt.  \n",
    "\n",
    "\n",
    "- Sämtliche Variablen die in einer von Ihnen definierten Funktionen verwendet werden, müssen als Argumente übergeben  oder innerhalb der Funktion definiert werden.\n",
    "- Selbst definierte Funktionen müssen einen (kurzen) docstring haben.\n",
    "\n",
    "\n",
    "- Versuchen Sie eine kompakte und performante Implementierung zu finden. Vollständige Punktzahl erreichen Sie bloss mit performantem *Code*.  \n",
    "- Verwenden Sie dazu, wo immer möglich und sinnvoll, Funktionen aus `pandas` und `numpy`.\n",
    "- Vermeiden Sie *Loops* falls möglich."
   ]
  },
  {
   "cell_type": "markdown",
   "metadata": {
    "deletable": false,
    "editable": false,
    "nbgrader": {
     "cell_type": "markdown",
     "checksum": "6b23c64be9da983d055288153571a3f1",
     "grade": false,
     "grade_id": "cell-4e580db29af0a865",
     "locked": true,
     "schema_version": 3,
     "solution": false
    }
   },
   "source": [
    "Am 14. April 1912 ist die Titanic vor der Küste Neufundlands auf ihrer Jungfernfahrt mit einem Eisberg kollidiert und sank kanpp 3 Stunden später in den frühen Morgenstunden des 15. Aprils. Von den ca 2224 Passagieren und Crewmitgliedern starben rund 1500.  \n",
    "\n",
    "Auf der Website https://www.encyclopedia-titanica.org/ können Passagier- und Crewlisten runtergeladen werden. Ich habe Ihnen zwei Dateien bereitgestellt: 'data/titanic_survivors.csv' und 'data/titanic_victims.csv'. Sie beinhalten jeweils die Überlebenden und Opfer des Unglücks.  \n",
    "\n",
    "Wir werden in dieser Übung die Personen hinter diesem Unglück miteinander untersuchen."
   ]
  },
  {
   "cell_type": "markdown",
   "metadata": {
    "deletable": false,
    "editable": false,
    "nbgrader": {
     "cell_type": "markdown",
     "checksum": "ee76af2a4b6d7251c639adfbeac0a4fb",
     "grade": false,
     "grade_id": "cell-d0b1658323be9aa7",
     "locked": true,
     "schema_version": 3,
     "solution": false
    }
   },
   "source": [
    "### Aufgabe 1 (10 Punkte)  \n",
    "\n",
    "Schreiben Sie eine Funktion, mit welcher Sie die beiden Dateien laden und präprozessieren können.  \n",
    "\n",
    "Die Funktion soll ein `DataFrame` zurückgeben mit folgenden Spalten: `'name', 'sex', 'age', 'is_adult', 'job', 'class_dept', 'is_passenger', 'joined', 'boat_body', 'ticketprice', 'survived',`.  \n",
    "\n",
    "\n",
    "- Der Ticketpreis steht bei Passagieren jeweils auf der folgenden Zeile im Feld `Ticket`. Extrahieren Sie Pfund, Shilling und Pence mittels *regular expression-matching* auf dem `DataFrame`.\n",
    "- Berechnen Sie einen Dezimalbetrag in Pfund gemäss dem folgenden Satz: *'There were 12 pence in a shilling and 20 shillings in a pound.'* \n",
    "- Leiten Sie das Geschlecht `sex` aus dem Namen, insbesondere aus der Anrede, ab. Finden Sie einen geeignete `pandas`-Methode für das *Mapping*.\n",
    "- Berechnenen Sie das Alter für alle Personen in Jahren (`m` steht für *months*).\n",
    "- `is_passenger` soll `True` sein, falls `class_dept` in `['1st Class Passenger', '2nd Class Passenger', '3rd Class Passenger',]` ist.  \n",
    "- Sortieren Sie das `DataFrame` nach dem Familiennamen.\n",
    "\n",
    "Jeder *for-Loop* gibt 2 Punkte Abzug.  \n",
    "\n",
    "Laden Sie die Daten und geben Sie die ersten 10 Zeilen aus."
   ]
  },
  {
   "cell_type": "code",
   "execution_count": 1,
   "metadata": {},
   "outputs": [],
   "source": [
    "# imports\n",
    "import pandas as pd\n",
    "import numpy as np\n",
    "import re\n",
    "import seaborn as sns\n",
    "import matplotlib.pyplot as plt\n",
    "%matplotlib inline"
   ]
  },
  {
   "cell_type": "code",
   "execution_count": null,
   "metadata": {
    "deletable": false,
    "nbgrader": {
     "cell_type": "code",
     "checksum": "415e716d849f73ac7a5c86d5af1106be",
     "grade": true,
     "grade_id": "cell-8478028c8583e471",
     "locked": false,
     "points": 10,
     "schema_version": 3,
     "solution": true
    }
   },
   "outputs": [],
   "source": [
    "# Funktion CSV-File loader\n",
    "def loadFile(filepath):\n",
    "    df = pd.read_csv(filepath, skiprows=5, sep=',', usecols=range(7))\n",
    "    return df"
   ]
  },
  {
   "cell_type": "code",
   "execution_count": null,
   "metadata": {},
   "outputs": [],
   "source": [
    "# load File of titanic_victims\n",
    "titanic_victims_df = loadFile('../../data/titanic_victims.csv')\n",
    "titanic_victims_df.head(5)\n",
    "print(len(titanic_victims_df))"
   ]
  },
  {
   "cell_type": "code",
   "execution_count": null,
   "metadata": {},
   "outputs": [],
   "source": [
    "# load File of titanic_survivors\n",
    "titanic_survivors_df = loadFile('../../data/titanic_survivors.csv')\n",
    "titanic_survivors_df.tail(5)\n",
    "print(len(titanic_survivors_df))"
   ]
  },
  {
   "cell_type": "code",
   "execution_count": 2,
   "metadata": {},
   "outputs": [],
   "source": [
    "titanic_victims_df = '../../data/titanic_victims.csv'\n",
    "titanic_survivors_df = '../../data/titanic_survivors.csv'"
   ]
  },
  {
   "cell_type": "markdown",
   "metadata": {},
   "source": [
    "To do:\n",
    "\n",
    "- Berechnen Sie einen Dezimalbetrag in Pfund\n",
    "- Richtige Anzahl Female and Male? Sonderfall beachten?"
   ]
  },
  {
   "cell_type": "code",
   "execution_count": 80,
   "metadata": {},
   "outputs": [],
   "source": [
    "def cleanFile(df_1, df_2):\n",
    "    \"\"\"\n",
    "    Hello this is a doc\n",
    "    \"\"\" \n",
    "    #load data\n",
    "    df_1 = pd.read_csv(df_1, skiprows=5, sep=',', usecols=range(7))\n",
    "    df_2 = pd.read_csv(df_2, skiprows=5, sep=',', usecols=range(7))\n",
    "    \n",
    "    #Shift ticketprice and drop unused row\n",
    "    df_1.insert(3, 'Ticketprice', np.NaN)\n",
    "    ticket_prices = df_1.loc[df_1['Ticket'].str.contains('£|s|d') == True, ['Ticketprice']] = df_1['Ticket']\n",
    "    df_1['Ticketprice'] = df_1['Ticketprice'].shift(-1)\n",
    "    df_1 = df_1.dropna(subset=['Name'])\n",
    "    \n",
    "    df_2.insert(3, 'Ticketprice', np.NaN)\n",
    "    ticket_prices = df_2.loc[df_2['Ticket'].str.contains('£|s|d') == True, ['Ticketprice']] = df_2['Ticket']\n",
    "    df_2['Ticketprice'] = df_2['Ticketprice'].shift(-1)\n",
    "    df_2 = df_2.dropna(subset=['Name'])\n",
    "    \n",
    "    # drop not neccassary row with NaN\n",
    "    df_1 = df_1.dropna(subset=['Name'])\n",
    "    df_2 = df_2.dropna(subset=['Name']) \n",
    "    \n",
    "    #create new column for survived\n",
    "    df_1.insert(8, 'Survived', False)\n",
    "    df_2.insert(8, 'Survived', True)\n",
    "    \n",
    "    #Merge two files\n",
    "    frames = [df_1, df_2]\n",
    "    result_df = pd.concat(frames, ignore_index=True, sort=False)\n",
    "    \n",
    "    #drop Ticket\n",
    "    result_df = result_df.drop(columns=['Ticket'])\n",
    "    \n",
    "    \n",
    "    #Rename columns\n",
    "    result_df.rename(columns={'Name': 'name', 'Age': 'age', 'Class/Dept': 'class_dept', 'Ticketprice': 'ticketprice', 'Joined': 'joined',\n",
    "                       'Job': 'job', 'Boat [Body]': 'boat_body', 'Survived': 'survived'}, inplace=True)\n",
    "\n",
    "    \n",
    "    # Calculate a decimal amount in pounds\n",
    "    #result_df['ticketprice'] = result_df['ticketprice'].str.replace('£|s|d', '')\n",
    "    result_df.insert(4, 'pound', np.NaN)\n",
    "    result_df.insert(5, 'shilling', np.NaN)\n",
    "    result_df.insert(6, 'pence', np.NaN)\n",
    "    \n",
    "    result_df['pound'] = result_df['ticketprice'].str.extract(pat = '£(\\d*)')\n",
    "    result_df['shilling'] = result_df['ticketprice'].str.extract(pat = '(\\d*)s')\n",
    "    result_df['pence'] = result_df['ticketprice'].str.extract(pat = '(\\d*)d')\n",
    "    \n",
    "    #Replace Nan-Values\n",
    "    values = {'job':'unknown', 'boat_body':'unknown', 'pound': 0, 'shilling': 0, 'pence': 0}\n",
    "    result_df = result_df.fillna(value=values)\n",
    "    \n",
    "    result_df['ticketprice'] = result_df['pound'].astype('float64') + result_df['shilling'].astype('float64') / 20 + result_df['pence'].astype('float64') / 240\n",
    "\n",
    "    \n",
    "    \n",
    "    #clean Age column with years (m=months)\n",
    "    result_Age = result_df.loc[result_df['age'].str.contains('m') == True, ['age']] = round((1/12) * result_df['age'].str.split('m').str[0].astype('float64'), 1)\n",
    "    \n",
    "    #insert new columns\n",
    "    result_df.insert(1, 'sex', np.NaN)\n",
    "    result_df.insert(3, 'is_adult', np.NaN)\n",
    "    result_df.insert(4, 'is_passenger', np.NaN)\n",
    "    \n",
    "    # Give is_Adult values\n",
    "    result_df['age']= result_df['age'].astype(float)\n",
    "    is_adult = result_df.loc[result_df['age'] > 17, ['is_adult']] = True\n",
    "    is_adult = result_df.loc[result_df['age'] < 18, ['is_adult']] = False\n",
    "    #result_df['is_adult'] = result_df.loc[result_df['age'] < 18, ['is_adult']] == False\n",
    "    \n",
    "    \n",
    "    # is_passenger soll True sein, falls class_dept in ['1st Class Passenger', '2nd Class Passenger', '3rd Class Passenger',] ist.\n",
    "    result_df['is_passenger'] = result_df['class_dept'].isin(['1st Class Passenger', '2nd Class Passenger', '3rd Class Passenger'])\n",
    "    \n",
    "    # split name for salutation\n",
    "    result_df.insert(0, 'salutation', np.NaN)\n",
    "    result_df['salutation'] = result_df['name'].str.split(',', n=1, expand = False).str[1]\n",
    "    result_df['salutation'] = result_df['salutation'].str.split(' ', n=1, expand = False).str[0]\n",
    "    result_df['salutation'] = result_df['salutation'].str.extract(pat = '([A-Z][a-z]*)')\n",
    "    \n",
    "    \n",
    "    # Mapping for sex\n",
    "    result_df['sex'] = result_df['salutation'].map({'Mr': 'Male', 'Master': 'Male', 'Major': 'Male', 'Dr': 'Male', 'Sig': 'Male', 'Colonel': 'Male',\n",
    "                                                      'Revd': 'Male', 'Fr': 'Male', 'Rev': 'Male', 'Captain': 'Male', 'Sr': 'Male', 'Don': 'Male', \n",
    "                                                      'Col': 'Male', 'Sir': 'Male', 'Mme': 'Female', 'Lucy':'Female', 'Sra': 'Female', \n",
    "                                                      'Mlle': 'Female', 'Mrs': 'Female', 'Miss': 'Female', 'Do': 'Female', 'Ms': 'Female'})\n",
    "    \n",
    "    # Mapping for sex special case Alice May\n",
    "    result_df.loc[result_df.name.str.contains('Alice May') == True, ['sex']] = 'Female'\n",
    "    \n",
    "    # delete not needed column salutation\n",
    "    result_df = result_df.drop(columns=['salutation', 'pound', 'shilling', 'pence'])\n",
    "    \n",
    "    # sort dataframe --> familyname\n",
    "    cleaned_result_df = result_df.sort_values(by=['name'], ascending=True)\n",
    "    #cleaned_result_df.to_csv('titanic.csv')\n",
    "    print(cleaned_result_df['sex'].value_counts())\n",
    "    print(len(cleaned_result_df))\n",
    "    \n",
    "    \n",
    "    return cleaned_result_df"
   ]
  },
  {
   "cell_type": "code",
   "execution_count": 81,
   "metadata": {},
   "outputs": [
    {
     "name": "stdout",
     "output_type": "stream",
     "text": [
      "Male      1719\n",
      "Female     489\n",
      "Name: sex, dtype: int64\n",
      "2208\n"
     ]
    },
    {
     "data": {
      "text/html": [
       "<div>\n",
       "<style scoped>\n",
       "    .dataframe tbody tr th:only-of-type {\n",
       "        vertical-align: middle;\n",
       "    }\n",
       "\n",
       "    .dataframe tbody tr th {\n",
       "        vertical-align: top;\n",
       "    }\n",
       "\n",
       "    .dataframe thead th {\n",
       "        text-align: right;\n",
       "    }\n",
       "</style>\n",
       "<table border=\"1\" class=\"dataframe\">\n",
       "  <thead>\n",
       "    <tr style=\"text-align: right;\">\n",
       "      <th></th>\n",
       "      <th>name</th>\n",
       "      <th>sex</th>\n",
       "      <th>age</th>\n",
       "      <th>is_adult</th>\n",
       "      <th>is_passenger</th>\n",
       "      <th>class_dept</th>\n",
       "      <th>ticketprice</th>\n",
       "      <th>joined</th>\n",
       "      <th>job</th>\n",
       "      <th>boat_body</th>\n",
       "      <th>survived</th>\n",
       "    </tr>\n",
       "  </thead>\n",
       "  <tbody>\n",
       "    <tr>\n",
       "      <td>0</td>\n",
       "      <td>ABBING, Mr Anthony</td>\n",
       "      <td>Male</td>\n",
       "      <td>41.0</td>\n",
       "      <td>True</td>\n",
       "      <td>True</td>\n",
       "      <td>3rd Class Passenger</td>\n",
       "      <td>7.550000</td>\n",
       "      <td>Southampton</td>\n",
       "      <td>Blacksmith</td>\n",
       "      <td>unknown</td>\n",
       "      <td>False</td>\n",
       "    </tr>\n",
       "    <tr>\n",
       "      <td>1496</td>\n",
       "      <td>ABBOTT, Mrs Rhoda Mary 'Rosa'</td>\n",
       "      <td>Female</td>\n",
       "      <td>39.0</td>\n",
       "      <td>True</td>\n",
       "      <td>True</td>\n",
       "      <td>3rd Class Passenger</td>\n",
       "      <td>20.250000</td>\n",
       "      <td>Southampton</td>\n",
       "      <td>unknown</td>\n",
       "      <td>A</td>\n",
       "      <td>True</td>\n",
       "    </tr>\n",
       "    <tr>\n",
       "      <td>3</td>\n",
       "      <td>ABBOTT, Mr Ernest Owen</td>\n",
       "      <td>Male</td>\n",
       "      <td>21.0</td>\n",
       "      <td>True</td>\n",
       "      <td>False</td>\n",
       "      <td>Victualling Crew</td>\n",
       "      <td>0.000000</td>\n",
       "      <td>Southampton</td>\n",
       "      <td>Lounge Pantry Steward</td>\n",
       "      <td>unknown</td>\n",
       "      <td>False</td>\n",
       "    </tr>\n",
       "    <tr>\n",
       "      <td>2</td>\n",
       "      <td>ABBOTT, Mr Eugene Joseph</td>\n",
       "      <td>Male</td>\n",
       "      <td>13.0</td>\n",
       "      <td>False</td>\n",
       "      <td>True</td>\n",
       "      <td>3rd Class Passenger</td>\n",
       "      <td>20.250000</td>\n",
       "      <td>Southampton</td>\n",
       "      <td>Scholar</td>\n",
       "      <td>unknown</td>\n",
       "      <td>False</td>\n",
       "    </tr>\n",
       "    <tr>\n",
       "      <td>1</td>\n",
       "      <td>ABBOTT, Mr Rossmore Edward</td>\n",
       "      <td>Male</td>\n",
       "      <td>16.0</td>\n",
       "      <td>False</td>\n",
       "      <td>True</td>\n",
       "      <td>3rd Class Passenger</td>\n",
       "      <td>20.250000</td>\n",
       "      <td>Southampton</td>\n",
       "      <td>Jeweller</td>\n",
       "      <td>[190]</td>\n",
       "      <td>False</td>\n",
       "    </tr>\n",
       "    <tr>\n",
       "      <td>1497</td>\n",
       "      <td>ABELSETH, Miss Karen Marie</td>\n",
       "      <td>Female</td>\n",
       "      <td>16.0</td>\n",
       "      <td>False</td>\n",
       "      <td>True</td>\n",
       "      <td>3rd Class Passenger</td>\n",
       "      <td>7.650000</td>\n",
       "      <td>Southampton</td>\n",
       "      <td>unknown</td>\n",
       "      <td>16</td>\n",
       "      <td>True</td>\n",
       "    </tr>\n",
       "    <tr>\n",
       "      <td>1498</td>\n",
       "      <td>ABELSETH, Mr Olaus Jørgensen</td>\n",
       "      <td>Male</td>\n",
       "      <td>25.0</td>\n",
       "      <td>True</td>\n",
       "      <td>True</td>\n",
       "      <td>3rd Class Passenger</td>\n",
       "      <td>7.650000</td>\n",
       "      <td>Southampton</td>\n",
       "      <td>Farmer</td>\n",
       "      <td>A</td>\n",
       "      <td>True</td>\n",
       "    </tr>\n",
       "    <tr>\n",
       "      <td>1499</td>\n",
       "      <td>ABELSON, Mrs Anna</td>\n",
       "      <td>Female</td>\n",
       "      <td>24.0</td>\n",
       "      <td>True</td>\n",
       "      <td>True</td>\n",
       "      <td>2nd Class Passenger</td>\n",
       "      <td>24.000000</td>\n",
       "      <td>Cherbourg</td>\n",
       "      <td>unknown</td>\n",
       "      <td>10</td>\n",
       "      <td>True</td>\n",
       "    </tr>\n",
       "    <tr>\n",
       "      <td>4</td>\n",
       "      <td>ABELSON, Mr Samuel</td>\n",
       "      <td>Male</td>\n",
       "      <td>30.0</td>\n",
       "      <td>True</td>\n",
       "      <td>True</td>\n",
       "      <td>2nd Class Passenger</td>\n",
       "      <td>24.000000</td>\n",
       "      <td>Cherbourg</td>\n",
       "      <td>unknown</td>\n",
       "      <td>unknown</td>\n",
       "      <td>False</td>\n",
       "    </tr>\n",
       "    <tr>\n",
       "      <td>1500</td>\n",
       "      <td>ABRAHAMSSON, Mr August Abraham Johannes</td>\n",
       "      <td>Male</td>\n",
       "      <td>19.0</td>\n",
       "      <td>True</td>\n",
       "      <td>True</td>\n",
       "      <td>3rd Class Passenger</td>\n",
       "      <td>7.925000</td>\n",
       "      <td>Southampton</td>\n",
       "      <td>unknown</td>\n",
       "      <td>15</td>\n",
       "      <td>True</td>\n",
       "    </tr>\n",
       "    <tr>\n",
       "      <td>7</td>\n",
       "      <td>ABRAMS, Mr William Thomas</td>\n",
       "      <td>Male</td>\n",
       "      <td>34.0</td>\n",
       "      <td>True</td>\n",
       "      <td>False</td>\n",
       "      <td>Engineering Crew</td>\n",
       "      <td>0.000000</td>\n",
       "      <td>Southampton</td>\n",
       "      <td>Fireman</td>\n",
       "      <td>unknown</td>\n",
       "      <td>False</td>\n",
       "    </tr>\n",
       "    <tr>\n",
       "      <td>1501</td>\n",
       "      <td>ABĪ SA'B, Mrs Sha'nīnah</td>\n",
       "      <td>Female</td>\n",
       "      <td>38.0</td>\n",
       "      <td>True</td>\n",
       "      <td>True</td>\n",
       "      <td>3rd Class Passenger</td>\n",
       "      <td>7.229167</td>\n",
       "      <td>Cherbourg</td>\n",
       "      <td>unknown</td>\n",
       "      <td>C</td>\n",
       "      <td>True</td>\n",
       "    </tr>\n",
       "    <tr>\n",
       "      <td>5</td>\n",
       "      <td>ABĪ SA'B, Mr Jirjis Yūsuf</td>\n",
       "      <td>Male</td>\n",
       "      <td>45.0</td>\n",
       "      <td>True</td>\n",
       "      <td>True</td>\n",
       "      <td>3rd Class Passenger</td>\n",
       "      <td>7.225000</td>\n",
       "      <td>Cherbourg</td>\n",
       "      <td>Shoemaker</td>\n",
       "      <td>[312]</td>\n",
       "      <td>False</td>\n",
       "    </tr>\n",
       "    <tr>\n",
       "      <td>6</td>\n",
       "      <td>ABĪ SHADĪD, Mr Dāhir</td>\n",
       "      <td>Male</td>\n",
       "      <td>19.0</td>\n",
       "      <td>True</td>\n",
       "      <td>True</td>\n",
       "      <td>3rd Class Passenger</td>\n",
       "      <td>7.225000</td>\n",
       "      <td>Cherbourg</td>\n",
       "      <td>unknown</td>\n",
       "      <td>[9]</td>\n",
       "      <td>False</td>\n",
       "    </tr>\n",
       "    <tr>\n",
       "      <td>1502</td>\n",
       "      <td>ABĪ-AL-MUNÀ, Mr Nāsīf Qāsim</td>\n",
       "      <td>Male</td>\n",
       "      <td>27.0</td>\n",
       "      <td>True</td>\n",
       "      <td>True</td>\n",
       "      <td>3rd Class Passenger</td>\n",
       "      <td>18.787500</td>\n",
       "      <td>Cherbourg</td>\n",
       "      <td>unknown</td>\n",
       "      <td>15</td>\n",
       "      <td>True</td>\n",
       "    </tr>\n",
       "    <tr>\n",
       "      <td>10</td>\n",
       "      <td>ADAMS, Mr John</td>\n",
       "      <td>Male</td>\n",
       "      <td>26.0</td>\n",
       "      <td>True</td>\n",
       "      <td>True</td>\n",
       "      <td>3rd Class Passenger</td>\n",
       "      <td>8.050000</td>\n",
       "      <td>Southampton</td>\n",
       "      <td>unknown</td>\n",
       "      <td>[103]</td>\n",
       "      <td>False</td>\n",
       "    </tr>\n",
       "    <tr>\n",
       "      <td>9</td>\n",
       "      <td>ADAMS, Mr Robert John</td>\n",
       "      <td>Male</td>\n",
       "      <td>26.0</td>\n",
       "      <td>True</td>\n",
       "      <td>False</td>\n",
       "      <td>Engineering Crew</td>\n",
       "      <td>0.000000</td>\n",
       "      <td>Southampton</td>\n",
       "      <td>Fireman</td>\n",
       "      <td>unknown</td>\n",
       "      <td>False</td>\n",
       "    </tr>\n",
       "    <tr>\n",
       "      <td>11</td>\n",
       "      <td>AHIER, Mr Percy Snowden</td>\n",
       "      <td>Male</td>\n",
       "      <td>20.0</td>\n",
       "      <td>True</td>\n",
       "      <td>False</td>\n",
       "      <td>Victualling Crew</td>\n",
       "      <td>0.000000</td>\n",
       "      <td>Southampton</td>\n",
       "      <td>Saloon Steward</td>\n",
       "      <td>unknown</td>\n",
       "      <td>False</td>\n",
       "    </tr>\n",
       "    <tr>\n",
       "      <td>12</td>\n",
       "      <td>AHLIN, Mrs Johanna Persdotter</td>\n",
       "      <td>Female</td>\n",
       "      <td>40.0</td>\n",
       "      <td>True</td>\n",
       "      <td>True</td>\n",
       "      <td>3rd Class Passenger</td>\n",
       "      <td>9.475000</td>\n",
       "      <td>Southampton</td>\n",
       "      <td>unknown</td>\n",
       "      <td>unknown</td>\n",
       "      <td>False</td>\n",
       "    </tr>\n",
       "    <tr>\n",
       "      <td>13</td>\n",
       "      <td>AHMED, Mr Ali</td>\n",
       "      <td>Male</td>\n",
       "      <td>24.0</td>\n",
       "      <td>True</td>\n",
       "      <td>True</td>\n",
       "      <td>3rd Class Passenger</td>\n",
       "      <td>7.050000</td>\n",
       "      <td>Southampton</td>\n",
       "      <td>General Labourer</td>\n",
       "      <td>unknown</td>\n",
       "      <td>False</td>\n",
       "    </tr>\n",
       "  </tbody>\n",
       "</table>\n",
       "</div>"
      ],
      "text/plain": [
       "                                         name     sex   age is_adult  \\\n",
       "0                          ABBING, Mr Anthony    Male  41.0     True   \n",
       "1496            ABBOTT, Mrs Rhoda Mary 'Rosa'  Female  39.0     True   \n",
       "3                      ABBOTT, Mr Ernest Owen    Male  21.0     True   \n",
       "2                    ABBOTT, Mr Eugene Joseph    Male  13.0    False   \n",
       "1                  ABBOTT, Mr Rossmore Edward    Male  16.0    False   \n",
       "1497               ABELSETH, Miss Karen Marie  Female  16.0    False   \n",
       "1498             ABELSETH, Mr Olaus Jørgensen    Male  25.0     True   \n",
       "1499                        ABELSON, Mrs Anna  Female  24.0     True   \n",
       "4                          ABELSON, Mr Samuel    Male  30.0     True   \n",
       "1500  ABRAHAMSSON, Mr August Abraham Johannes    Male  19.0     True   \n",
       "7                   ABRAMS, Mr William Thomas    Male  34.0     True   \n",
       "1501                  ABĪ SA'B, Mrs Sha'nīnah  Female  38.0     True   \n",
       "5                   ABĪ SA'B, Mr Jirjis Yūsuf    Male  45.0     True   \n",
       "6                        ABĪ SHADĪD, Mr Dāhir    Male  19.0     True   \n",
       "1502              ABĪ-AL-MUNÀ, Mr Nāsīf Qāsim    Male  27.0     True   \n",
       "10                             ADAMS, Mr John    Male  26.0     True   \n",
       "9                       ADAMS, Mr Robert John    Male  26.0     True   \n",
       "11                    AHIER, Mr Percy Snowden    Male  20.0     True   \n",
       "12              AHLIN, Mrs Johanna Persdotter  Female  40.0     True   \n",
       "13                              AHMED, Mr Ali    Male  24.0     True   \n",
       "\n",
       "      is_passenger           class_dept  ticketprice       joined  \\\n",
       "0             True  3rd Class Passenger     7.550000  Southampton   \n",
       "1496          True  3rd Class Passenger    20.250000  Southampton   \n",
       "3            False     Victualling Crew     0.000000  Southampton   \n",
       "2             True  3rd Class Passenger    20.250000  Southampton   \n",
       "1             True  3rd Class Passenger    20.250000  Southampton   \n",
       "1497          True  3rd Class Passenger     7.650000  Southampton   \n",
       "1498          True  3rd Class Passenger     7.650000  Southampton   \n",
       "1499          True  2nd Class Passenger    24.000000    Cherbourg   \n",
       "4             True  2nd Class Passenger    24.000000    Cherbourg   \n",
       "1500          True  3rd Class Passenger     7.925000  Southampton   \n",
       "7            False     Engineering Crew     0.000000  Southampton   \n",
       "1501          True  3rd Class Passenger     7.229167    Cherbourg   \n",
       "5             True  3rd Class Passenger     7.225000    Cherbourg   \n",
       "6             True  3rd Class Passenger     7.225000    Cherbourg   \n",
       "1502          True  3rd Class Passenger    18.787500    Cherbourg   \n",
       "10            True  3rd Class Passenger     8.050000  Southampton   \n",
       "9            False     Engineering Crew     0.000000  Southampton   \n",
       "11           False     Victualling Crew     0.000000  Southampton   \n",
       "12            True  3rd Class Passenger     9.475000  Southampton   \n",
       "13            True  3rd Class Passenger     7.050000  Southampton   \n",
       "\n",
       "                        job boat_body  survived  \n",
       "0                Blacksmith   unknown     False  \n",
       "1496                unknown         A      True  \n",
       "3     Lounge Pantry Steward   unknown     False  \n",
       "2                   Scholar   unknown     False  \n",
       "1                  Jeweller     [190]     False  \n",
       "1497                unknown        16      True  \n",
       "1498                 Farmer         A      True  \n",
       "1499                unknown        10      True  \n",
       "4                   unknown   unknown     False  \n",
       "1500                unknown        15      True  \n",
       "7                   Fireman   unknown     False  \n",
       "1501                unknown         C      True  \n",
       "5                 Shoemaker     [312]     False  \n",
       "6                   unknown       [9]     False  \n",
       "1502                unknown        15      True  \n",
       "10                  unknown     [103]     False  \n",
       "9                   Fireman   unknown     False  \n",
       "11           Saloon Steward   unknown     False  \n",
       "12                  unknown   unknown     False  \n",
       "13         General Labourer   unknown     False  "
      ]
     },
     "execution_count": 81,
     "metadata": {},
     "output_type": "execute_result"
    }
   ],
   "source": [
    "titanic_df = cleanFile(titanic_victims_df, titanic_survivors_df)\n",
    "titanic_df.head(20)"
   ]
  },
  {
   "cell_type": "markdown",
   "metadata": {
    "deletable": false,
    "editable": false,
    "nbgrader": {
     "cell_type": "markdown",
     "checksum": "f7e861d2c12e0ca5e04206a1dc86884e",
     "grade": false,
     "grade_id": "cell-207ea83b23603f1e",
     "locked": true,
     "schema_version": 3,
     "solution": false
    }
   },
   "source": [
    "### Aufgabe 2 (8 Punkte)\n",
    "\n",
    "Wieviele Personen sind es insgesamt?  \n",
    "\n",
    "Wieviele Personen ohne Ticketpreis?  \n",
    "\n",
    "Wieviele Personen ohne Altersangabe?  \n",
    "\n",
    "Wieviele Personen männlichen und weiblichen Geschlechts fanden sich gemäss unserem Datensatz auf der Titanic?  \n",
    "\n",
    "Wie viele Kinder, welchen Geschlechts?  \n",
    "\n",
    "Was war der durchschnittliche Preis für eine Fahrkarte?  \n",
    "\n",
    "Was war das Durchschnittsalter der Besatzungsmitglieder? Was war das Durchschnittsalter der Passagiere?"
   ]
  },
  {
   "cell_type": "code",
   "execution_count": 65,
   "metadata": {},
   "outputs": [
    {
     "name": "stdout",
     "output_type": "stream",
     "text": [
      "['£7 11s' '£20 5s' nan '£7 13s' '£24' '£7 18s 6d' '£7 4s 7d' '£7 4s 6d'\n",
      " '£18 15s 9d' '£8 1s' '£9 9s 6d' '£7 1s' '£9 7s' '£19 5s 2d' '£13'\n",
      " '£7 17s 9d' '£211 60s 9d' '£151 16s' '£8 6s' '£22 10s 6d' '£7 17s 1d'\n",
      " '£26 11s' '£31 5s 6d' '£7 15s 6d' '£11 10s' '£10 10s' '£77 19s 2d' '£26'\n",
      " '£51 9s 7d' '£17 16s' '£49 10s 1d' '£31 7s 9d' '£7 15s 11d' '£247 10s 6d'\n",
      " '£14 9s 2d' '£69 6s' '£15 17s' '£7 17s 11d' '£14 9s 1d' '£78 17s' '£30'\n",
      " '£7 17s 7d' '£76 5s 10d' '£12 10s 6d' '£25 18s 6d' '£247 10s 5d'\n",
      " '£75 4s 10d' '£39' '£52 11s 1d' '£63 7s 2d' '£56 9s 11d' '£221 15s 7d'\n",
      " '£91 1s 7d' '£7 15s' '£35 10s' '£31' '£164 17s 4d' '£15 10s' '£262 7s 6d'\n",
      " '£16 2s' '£55' '£7 14s 6d' '£30 10s' '£50 9s 11d' '£7 11d' '£7 5s'\n",
      " '£39 12s' '£27 14s 5d' '£7 5s 8d' '£7 15s 17d' '£6 15s' '£134 10s'\n",
      " '£15 4s 11d' '£26 5s 9d' '£29' '£21' '£27 8s 11d' '£512 6s 7d' '£5'\n",
      " '£47 2s' '£120' '£61 3s 6d' '£53 2s' '£13 10s' '£7 14s 8d' '£86 10s'\n",
      " '£29 14s' '£136 15s 7d' '£27' '£52' '£25 11s 9d' '£26 5s' '£83 3s 2d'\n",
      " '£7 12s 7d' '£25 14s 10d' '£15 18s' '£8 3s 2d' '£71' '£71 5s 8d'\n",
      " '£10 10s 4d' '£10 3s 5d' '£6 19s' '£14 8s' '£36 15s' '£24 3s' '£73 10s'\n",
      " '£17 8s' '£9 10s' '£20 11s 6d' '£31 10s' '£57' '£8 13s 3d' '£81 17s 2d'\n",
      " '£8 9s 2d' '£23' '£106 8s 6d' '£12 9s 6d' '£32 10s' '£56 18s 7d'\n",
      " '£13 17s 2d' '£13 18s' '£6 19s 6d' '£78 5s 4d' '£31 13s 7d' '£15 2s'\n",
      " '£31 13s 8d' '£110 17s 8d' '£34 7s 6d' '£27 15s' '£263' '£133 13s'\n",
      " '£49 10s' '£79 4s' '£7 14s 10d' '£14 10s' '£38 10s' '£59 8s' '£211 10s'\n",
      " '£89 2s 1d' '£34 13s 1d' '£20 10s 6d' '£7 17s' '£46 18s' '£28 10s'\n",
      " '£153 9s 3d' '£8 6s 15d' '£9 16s 11d' '£8 17s' '£6 19s 4d' '£14 2s 2d'\n",
      " '£55 8s 10d' '£33' '£76 14s 7d' '£42 8s' '£83 9s 6d' '£6 17s 2d'\n",
      " '£93 10s' '£42 10s' '£8 19s 3d' '£65' '£16' '£51 17s 3d' '£50'\n",
      " '£57 19s 7d' '£12 5s 9d' '£6 9s' '£100' '£30 13s 11d' '£12 5s 6d' '£80'\n",
      " '£28 14s 3d' '£8 2s 3d' '£15' '£7 1s 1d' '£13 15s 10d' '£6 9s 11d'\n",
      " '£8 13s 1d' '£11 2s 8d' '£23 9s' '£22 7s 2d' '£9 16s 10d' '£7 2s 6d'\n",
      " '£8 8s 8d' '£7 10s 5d' '£13 8s 4d' '£12 7s' '£7 16s 7d' '£7 14s 9d'\n",
      " '£22 6d' '£12 3s 8d' '£211 6s 9d' '£9 11s 9d' '£10 14s 2d' '£41 11s 7d'\n",
      " '£9 9s 8d' '£25 18s 7d' '£25 9s 4d' '£12' '£15 11s' '£39 8s' '£45 10s'\n",
      " '£7 11s 7d' '£146 10s 5d' '£6 8s 9d' '£12 17s 6d' '£7 2s 10d' '£15 11d'\n",
      " '£37 1d' '£15 11s 7d' '£23 5s' '£7 15s 8d' '£8 7d' '£19 10s' '£82 3s 5d'\n",
      " '£90' '£57 15s' '£14' '£9 13s 9d' '£15 14s 10d' '£30 1s 5d' '£113 5s 6d'\n",
      " '£26 5s 8d' '£7 16s' '£13 17s 3d' '£6 4s 9d' '£11 4s 10d' '£108 18s'\n",
      " '£3 3s 5d' '£8 8s 1d' '£7 6s 3d' '£9 4s 6d' '£8 13s 8d' '£9 4s 4d'\n",
      " '£39 13s 9d' '£13 15s 6d' '£7' '£66 12s' '£15 1s' '£8 2s 9d' '£12 14s 9d'\n",
      " '£15 8d' '£8 14s 3d' '£21 1s 6d' '£29 2s 6d' '£18 15s' '£135 12s 8d'\n",
      " '£7 14s 5d' '£20 4s 3d' '£79 4d' '£40 2s 6d' '£7 14s 7d' '£7 11s 10d'\n",
      " '£69 11s' '£9 6s 6d' '£21 13s 7d' '£16 14s' '£4 3d' '£55 18s' '£27 18s'\n",
      " '£60' '£82 5s 4d' '£8 13s 9d' '£9 16s 9d' '£10 9s 3d' '£32 6s 5d'\n",
      " '£8 10s 4d' '£79 13s' '£80 4d' '£12 13s' '£28 10s 9d' '£33 10s' '£9'\n",
      " '£18' '£34 5d' '£75 5s' '£15 15s' '£77 5s 9d' '£61 7s 7d' '£35'\n",
      " '£7 17s 6d' '£61 19s 7d']\n"
     ]
    }
   ],
   "source": [
    "print(titanic_df['ticketprice'].unique())"
   ]
  },
  {
   "cell_type": "code",
   "execution_count": 22,
   "metadata": {
    "deletable": false,
    "nbgrader": {
     "cell_type": "code",
     "checksum": "839c78de974cc72fdfd38654071168f4",
     "grade": true,
     "grade_id": "cell-8fb2fb6345810160",
     "locked": false,
     "points": 8,
     "schema_version": 3,
     "solution": true
    }
   },
   "outputs": [
    {
     "name": "stdout",
     "output_type": "stream",
     "text": [
      "Es sind insgesamt 2208 Personen\n",
      "Es gibt insgesamt 917 Personen ohne Tickets\n",
      "Es gibt insgesamt 3 Personen die keine Altersangabe haben\n",
      "Anzahl Frauen und Männer auf der Titanic: Male      1719\n",
      "Female     489\n",
      "Name: sex, dtype: int64\n",
      "--------------------------------------------\n",
      "Es gibt insgesamt 203 Kinder\n",
      "Anzahl Mädchen und Jungs auf der Titanic: sex\n",
      "Female     82\n",
      "Male      121\n",
      "Name: age, dtype: int64\n",
      "--------------------------------------------\n",
      "Das Durchschnittsalter der Besatzungsmitglieder ist: 30.85\n",
      "Das Durchschnittsalter der Passagiere ist: 31.42\n"
     ]
    }
   ],
   "source": [
    "# Wieviele Personen sind es insgesamt?\n",
    "print('Es sind insgesamt', len(titanic_df['is_passenger']), 'Personen')\n",
    "\n",
    "# Wieviele Personen ohne Ticketpreis?\n",
    "print('Es gibt insgesamt', titanic_df['ticketprice'].isna().sum(), 'Personen ohne Tickets')\n",
    "\n",
    "# Wieviele Personen ohne Altersangabe?\n",
    "print('Es gibt insgesamt', titanic_df['is_adult'].isna().sum(), 'Personen die keine Altersangabe haben')\n",
    "\n",
    "# Wieviele Personen männlichen und weiblichen Geschlechts fanden sich gemäss unserem Datensatz auf der Titanic?\n",
    "print('Anzahl Frauen und Männer auf der Titanic:', titanic_df['sex'].value_counts())\n",
    "print('--------------------------------------------')\n",
    "\n",
    "# Wie viele Kinder, welchen Geschlechts? \n",
    "children = titanic_df.loc[titanic_df['is_adult'] == False]\n",
    "print('Es gibt insgesamt', children['is_adult'].count(), 'Kinder')\n",
    "print('Anzahl Mädchen und Jungs auf der Titanic:', children.groupby(['sex']).count().age)\n",
    "print('--------------------------------------------')\n",
    "\n",
    "# Was war der durchschnittliche Preis für eine Fahrkarte?\n",
    "#mean = titanic_df['ticketprice'].mean()\n",
    "#print('Es gibt insgesamt', '{:.2f}'.format(mean), 'Personen die keine Altersangabe haben')\n",
    "\n",
    "#Was war das Durchschnittsalter der Besatzungsmitglieder?\n",
    "array_staff = ['Engineering Crew', 'Restaurant Staff', 'Victualling Crew', 'Deck Crew']\n",
    "staff_result= titanic_df[titanic_df.class_dept.isin(array_staff)]\n",
    "staff = staff_result.groupby(['class_dept']).mean().age.mean()\n",
    "print('Das Durchschnittsalter der Besatzungsmitglieder ist:', '{:.2f}'.format(staff))\n",
    "\n",
    "#Was war das Durchschnittsalter der Passagiere?\n",
    "array_passenger = ['3rd Class Passenger', '1st Class Passenger', '2nd Class Passenger']\n",
    "passenger_result= titanic_df[titanic_df.class_dept.isin(array_passenger)]\n",
    "passenger = passenger_result.groupby(['class_dept']).mean().age.mean()\n",
    "print('Das Durchschnittsalter der Passagiere ist:', '{:.2f}'.format(passenger))\n",
    "\n",
    "#itanic_df.head(5)"
   ]
  },
  {
   "cell_type": "markdown",
   "metadata": {
    "deletable": false,
    "editable": false,
    "nbgrader": {
     "cell_type": "markdown",
     "checksum": "c7377b8ddcf6a7953126f73cb20d3b1b",
     "grade": false,
     "grade_id": "cell-4d7a01775a71c9de",
     "locked": true,
     "schema_version": 3,
     "solution": false
    }
   },
   "source": [
    "### Aufgabe 3 (3 Punkte)\n",
    "\n",
    "Erstellen Sie eine Kreuztabelle von Einstiegsort und `class_dept`.  \n",
    "\n",
    "Visualisieren Sie die Tabelle.  \n",
    "Wir wissen, dass die Titanic von *Belfast*, wo sie gebaut wurde, nach *Southhampton*, nach *Cherbourg* und dann nach *Queenstown* fuhr, bevor Sie zur Atlantiküberfahrt auslief.  \n",
    "\n",
    "Diskutieren Sie Ihre Erkenntnisse."
   ]
  },
  {
   "cell_type": "code",
   "execution_count": null,
   "metadata": {
    "deletable": false,
    "nbgrader": {
     "cell_type": "code",
     "checksum": "afaac1abff3b18eb2f86c8bbef13f6a4",
     "grade": true,
     "grade_id": "cell-2f22259cab208507",
     "locked": false,
     "points": 2,
     "schema_version": 3,
     "solution": true
    }
   },
   "outputs": [],
   "source": [
    "# Create crosstable\n",
    "pd.crosstab(titanic_df['joined'], titanic_df['class_dept']) # Reihenfolge?\n",
    "ct = pd.crosstab(titanic_df['joined'], titanic_df['class_dept']) # Reihenfolge?\n",
    "fig, ax = plt.subplots(figsize=(20, 8))\n",
    "im = ax.imshow(ct.values, aspect='auto')\n",
    "_ = ax.set_xticks(range(len(ct.columns)))\n",
    "_ = ax.set_xticklabels(ct.columns)\n",
    "_ = ax.set_yticks(range(len(ct.index)))\n",
    "_ = ax.set_yticklabels(ct.index)\n",
    "_ = plt.colorbar(im)"
   ]
  },
  {
   "cell_type": "markdown",
   "metadata": {
    "deletable": false,
    "nbgrader": {
     "cell_type": "markdown",
     "checksum": "591fd4ad6d12f47a68050cd2e6c36f88",
     "grade": true,
     "grade_id": "cell-a1e262ce45e81602",
     "locked": false,
     "points": 1,
     "schema_version": 3,
     "solution": true
    }
   },
   "source": [
    "Antwort zur Kreuztabelle"
   ]
  },
  {
   "cell_type": "markdown",
   "metadata": {
    "deletable": false,
    "editable": false,
    "nbgrader": {
     "cell_type": "markdown",
     "checksum": "85e38ec3d29d72f67591f320c0cbc36c",
     "grade": false,
     "grade_id": "cell-117bf6f33d8eb084",
     "locked": true,
     "schema_version": 3,
     "solution": false,
     "task": false
    }
   },
   "source": [
    "### Aufgabe 4 (5 Punkte)\n",
    "\n",
    "Visualisieren Sie die Altersverteilung für die beiden Geschlechter und gleichzeitig für Variable `class_dept` mit Boxplots.  \n",
    "\n",
    "Diskutieren Sie die Visualisierung.\n",
    "- Erklären Sie was ein Boxplot zeigt.\n",
    "- Was für Information fehlt?\n",
    "- Was können wir zu den vorliegenden Daten aus dieser Darstellung lesen?"
   ]
  },
  {
   "cell_type": "code",
   "execution_count": null,
   "metadata": {},
   "outputs": [],
   "source": [
    "#boxplot = titanic_df.boxplot(by='sex')\n",
    "print(titanic_df.sex.value_counts())\n",
    "print(titanic_df.class_dept.value_counts())\n",
    "\n",
    "#titanic_df['age_dist']=titanic_df['sex']+titanic_df['class_dept']\n",
    "#print(titanic_df.age_dist.value_counts())\n",
    "\n",
    "#titanic_df['age_dist'] = titanic_df['sex'].combine_first(titanic_df['class_dept'])\n",
    "#titanic_df['sex'].append(titanic_df['class_dept'], ignore_index=True)\n",
    "print('------------')\n",
    "#titanic_df['age_dist']=titanic_df['sex'].apply(titanic_df['class_dept'])\n",
    "#print(titanic_df.sex)\n",
    "\n",
    "#pd.concat([df1['WM'].append(df1['WL']\n",
    "\n",
    "mixed = []\n"
   ]
  },
  {
   "cell_type": "code",
   "execution_count": null,
   "metadata": {},
   "outputs": [],
   "source": [
    "titanic_df.boxplot(by=['age_dist'], column='age', figsize=(32,10))"
   ]
  },
  {
   "cell_type": "code",
   "execution_count": null,
   "metadata": {},
   "outputs": [],
   "source": [
    "titanic_df.boxplot(by=['class_dept'], column='age', figsize=(24,8))"
   ]
  },
  {
   "cell_type": "code",
   "execution_count": null,
   "metadata": {},
   "outputs": [],
   "source": [
    "titanic_df.boxplot(by=['sex'], column='age', figsize=(12,6))"
   ]
  },
  {
   "cell_type": "code",
   "execution_count": null,
   "metadata": {
    "deletable": false,
    "nbgrader": {
     "cell_type": "code",
     "checksum": "b84db5ed8a26498001ed4f4c91781fcf",
     "grade": true,
     "grade_id": "cell-8d52292df9aef5f4",
     "locked": false,
     "points": 2,
     "schema_version": 3,
     "solution": true
    }
   },
   "outputs": [],
   "source": [
    "y = titanic_df['age'].count()\n",
    "x = titanic_df['sex']\n",
    "_ = sns.catplot(data=titanic_df, x='sex', y='age', kind='box')"
   ]
  },
  {
   "cell_type": "code",
   "execution_count": null,
   "metadata": {},
   "outputs": [],
   "source": [
    "#dd = pd.melt(titanic_df,id_vars=['age'],value_vars=['sex','class_dept'],var_name='age')\n",
    "#sns.boxplot(x='Group',y='value',data=dd,hue='age')"
   ]
  },
  {
   "cell_type": "markdown",
   "metadata": {
    "deletable": false,
    "nbgrader": {
     "cell_type": "markdown",
     "checksum": "538f5c54cda6ee80d9a4aa49d2cef330",
     "grade": true,
     "grade_id": "cell-522357d7ca7c0815",
     "locked": false,
     "points": 3,
     "schema_version": 3,
     "solution": true
    }
   },
   "source": [
    "YOUR ANSWER HERE"
   ]
  },
  {
   "cell_type": "markdown",
   "metadata": {
    "deletable": false,
    "editable": false,
    "nbgrader": {
     "cell_type": "markdown",
     "checksum": "fbc8d3b5ef52e8f45ef814092ee6aa53",
     "grade": false,
     "grade_id": "cell-de940ef5186007a4",
     "locked": true,
     "schema_version": 3,
     "solution": false
    }
   },
   "source": [
    "### Aufgabe 5 (4 Punkte)\n",
    "\n",
    "Zeichnen Sie die Verteilung des Alters sämtlicher Passagiere als Histogramm.  \n",
    "\n",
    "Beschreiben Sie die Verteilung bezüglich Lage, Streuung und Form.  \n",
    "\n",
    "Sie dürfen verschiedene Ansätze verwenden und deren Resultate und Eigenschaften diskutieren."
   ]
  },
  {
   "cell_type": "code",
   "execution_count": null,
   "metadata": {},
   "outputs": [],
   "source": [
    "import warnings\n",
    "warnings.filterwarnings(\"ignore\", category=RuntimeWarning) \n",
    "warnings.filterwarnings(\"ignore\", category=FutureWarning) \n",
    "\n",
    "fig, ax = plt.subplots(figsize=(14,8))\n",
    "_ = sns.distplot(titanic_df['age'], kde=True, bins='fd')\n",
    "\n",
    "# Lage der Verteilung\n",
    "mean=titanic_df['age'].mean()\n",
    "median=titanic_df['age'].median()\n",
    "mode=titanic_df['age'].mode().get_values()[0]\n",
    "\n",
    "ax.axvline(mean, color='r', linestyle='--')\n",
    "ax.axvline(median, color='g', linestyle='-')\n",
    "ax.axvline(mode, color='b', linestyle='-')\n",
    "\n",
    "plt.legend({'Mean':mean,'Median':median,'Mode':mode})\n",
    "\n",
    "# Streuung der Verteilung\n",
    "std = titanic_df['age'].std()\n",
    "print('Standardabweichung der Visualisierung:', '{:.2f}'.format(std))\n",
    "print('Maximal Alter:',titanic_df['age'].max())\n",
    "print('Minimal Alter:',titanic_df['age'].min())\n",
    "print('Spannweite von Altersverteilung:', titanic_df['age'].max() - titanic_df['age'].min())\n",
    "\n",
    "# Form der Verteilung\n",
    "# Die Visualisierung hat eine rechtsschiefe Verteilung"
   ]
  },
  {
   "cell_type": "code",
   "execution_count": null,
   "metadata": {
    "deletable": false,
    "nbgrader": {
     "cell_type": "code",
     "checksum": "9d85e770aa6d1b13e4093447b1c546fd",
     "grade": true,
     "grade_id": "cell-f01b4c0ad9316fa9",
     "locked": false,
     "points": 3,
     "schema_version": 3,
     "solution": true
    }
   },
   "outputs": [],
   "source": []
  },
  {
   "cell_type": "markdown",
   "metadata": {
    "deletable": false,
    "nbgrader": {
     "cell_type": "markdown",
     "checksum": "21c8dfc70431930eea85c4cde6c9abb3",
     "grade": true,
     "grade_id": "cell-9b76cbb127b7095d",
     "locked": false,
     "points": 1,
     "schema_version": 3,
     "solution": true
    }
   },
   "source": [
    "YOUR ANSWER HERE"
   ]
  },
  {
   "cell_type": "markdown",
   "metadata": {
    "deletable": false,
    "editable": false,
    "nbgrader": {
     "cell_type": "markdown",
     "checksum": "b253c4f3537f2b79bb6117ea4da9180a",
     "grade": false,
     "grade_id": "cell-f2a21ef8278416fe",
     "locked": true,
     "schema_version": 3,
     "solution": false
    }
   },
   "source": [
    "### Aufgabe 6 (3 Punkte)\n",
    "\n",
    "Führen Sie die Schritte aus Aufgabe 5 für den Ticketpreis aus.  \n",
    "\n",
    "Visualisieren Sie zusätzlich die kumulative Verteilung.  \n",
    "\n",
    "Diskutieren Sie Ihre Erkenntnisse."
   ]
  },
  {
   "cell_type": "code",
   "execution_count": null,
   "metadata": {
    "deletable": false,
    "nbgrader": {
     "cell_type": "code",
     "checksum": "5e14fc6c07fccc91951bdfa92a8e1878",
     "grade": true,
     "grade_id": "cell-5937418744d48531",
     "locked": false,
     "points": 2,
     "schema_version": 3,
     "solution": true
    }
   },
   "outputs": [],
   "source": [
    "# YOUR CODE HERE\n",
    "raise NotImplementedError()"
   ]
  },
  {
   "cell_type": "markdown",
   "metadata": {
    "deletable": false,
    "nbgrader": {
     "cell_type": "markdown",
     "checksum": "3e94c57bae996588a870c98da4104024",
     "grade": true,
     "grade_id": "cell-ee214286db6eb48d",
     "locked": false,
     "points": 1,
     "schema_version": 3,
     "solution": true
    }
   },
   "source": [
    "YOUR ANSWER HERE"
   ]
  },
  {
   "cell_type": "markdown",
   "metadata": {
    "deletable": false,
    "editable": false,
    "nbgrader": {
     "cell_type": "markdown",
     "checksum": "54c12d815f4adc0d83bcac441a830f58",
     "grade": false,
     "grade_id": "cell-b8f95ee703ccede8",
     "locked": true,
     "schema_version": 3,
     "solution": false
    }
   },
   "source": [
    "### Aufgabe 7 (3 Punkte)\n",
    "\n",
    "Was sind die häufigsten 10 Berufe der Passagiere, welche oberhalb des $Q_{0.9}$-Quantils des Ticketpreises liegen?  \n",
    "\n",
    "Was sind die häufigsten 10 Berufe der Passagiere, welche unterhalb des $Q_{0.1}$-Quantils des Ticketpreises liegen?  \n",
    "\n",
    "Wie oft kommen die Berufe jeweils vor?  \n",
    "Wie interpretieren Sie das Resultat?"
   ]
  },
  {
   "cell_type": "code",
   "execution_count": null,
   "metadata": {
    "deletable": false,
    "nbgrader": {
     "cell_type": "code",
     "checksum": "f0bc25fab524bc325550c5de37dbf7c6",
     "grade": true,
     "grade_id": "cell-7e95afaa33b94398",
     "locked": false,
     "points": 2,
     "schema_version": 3,
     "solution": true
    }
   },
   "outputs": [],
   "source": [
    "# YOUR CODE HERE\n",
    "raise NotImplementedError()"
   ]
  },
  {
   "cell_type": "markdown",
   "metadata": {
    "deletable": false,
    "nbgrader": {
     "cell_type": "markdown",
     "checksum": "9420f277a2e0595e0f698d18e87155ea",
     "grade": true,
     "grade_id": "cell-661a75ac62d29f3d",
     "locked": false,
     "points": 1,
     "schema_version": 3,
     "solution": true
    }
   },
   "source": [
    "YOUR ANSWER HERE"
   ]
  },
  {
   "cell_type": "markdown",
   "metadata": {
    "deletable": false,
    "editable": false,
    "nbgrader": {
     "cell_type": "markdown",
     "checksum": "85007ee0634365118302de9d7f7d11fc",
     "grade": false,
     "grade_id": "cell-f2f99921751f4d48",
     "locked": true,
     "schema_version": 3,
     "solution": false
    }
   },
   "source": [
    "### Aufgabe 8 (6 Punkte)\n",
    "\n",
    "Finden Sie ein paar wenige Visualisierungen, welche es ermöglichen, kompakt einen Eindruck zu bekommen, wer das Unglück der Titanic am wahrscheinlichsten überlebt hat.  \n",
    "\n",
    "Was ist ihre Erkenntnis?"
   ]
  },
  {
   "cell_type": "code",
   "execution_count": null,
   "metadata": {
    "deletable": false,
    "nbgrader": {
     "cell_type": "code",
     "checksum": "b129797b3ec6a7d4ae56cb19bf9aa335",
     "grade": true,
     "grade_id": "cell-4e6953caaff51560",
     "locked": false,
     "points": 3,
     "schema_version": 3,
     "solution": true
    }
   },
   "outputs": [],
   "source": [
    "# YOUR CODE HERE\n",
    "raise NotImplementedError()"
   ]
  },
  {
   "cell_type": "markdown",
   "metadata": {
    "deletable": false,
    "nbgrader": {
     "cell_type": "markdown",
     "checksum": "58cab7d7867f571cbbda9cbc7cb1ca4e",
     "grade": true,
     "grade_id": "cell-595efdc404624722",
     "locked": false,
     "points": 3,
     "schema_version": 3,
     "solution": true
    }
   },
   "source": [
    "YOUR ANSWER HERE"
   ]
  },
  {
   "cell_type": "markdown",
   "metadata": {
    "deletable": false,
    "editable": false,
    "nbgrader": {
     "cell_type": "markdown",
     "checksum": "02e98cff2ad8bc7726c866ec44051f12",
     "grade": false,
     "grade_id": "cell-17a949bb3f1f60ee",
     "locked": true,
     "schema_version": 3,
     "solution": false
    }
   },
   "source": [
    "### Aufgabe 9 (6 Punkte)\n",
    "\n",
    "Untersuchen Sie nun, ob das Alter einen Einfluss auf die Überlebenswahrscheinlichkeit hatte.  \n",
    "\n",
    "Teilen Sie die Passagiere dazu in Gruppen von Geschlecht und Altersjahrzenten ein.  \n",
    "Berechnen Sie für die jeweiligen Gruppen den Anteil der Überlebenden, sowie den [*Standard Error of the Mean* (SEM)](https://en.wikipedia.org/wiki/Standard_error).  \n",
    "\n",
    "Visualisieren Sie die Resultate übersichtlich und diskutieren Sie diese.  \n",
    "Was können wir durch die Visualisierung des SEM erkennen?"
   ]
  },
  {
   "cell_type": "code",
   "execution_count": null,
   "metadata": {
    "deletable": false,
    "nbgrader": {
     "cell_type": "code",
     "checksum": "2ace725e47f4c1c3ddd6e91691dfe0e6",
     "grade": true,
     "grade_id": "cell-72902c8d15d75e6f",
     "locked": false,
     "points": 4,
     "schema_version": 3,
     "solution": true
    }
   },
   "outputs": [],
   "source": [
    "# YOUR CODE HERE\n",
    "raise NotImplementedError()"
   ]
  },
  {
   "cell_type": "markdown",
   "metadata": {
    "deletable": false,
    "nbgrader": {
     "cell_type": "markdown",
     "checksum": "695de72dd7b7708b71526d5648af253c",
     "grade": true,
     "grade_id": "cell-cea72be4ed8fb883",
     "locked": false,
     "points": 2,
     "schema_version": 3,
     "solution": true
    }
   },
   "source": [
    "YOUR ANSWER HERE"
   ]
  }
 ],
 "metadata": {
  "kernelspec": {
   "display_name": "Python 3",
   "language": "python",
   "name": "python3"
  },
  "language_info": {
   "codemirror_mode": {
    "name": "ipython",
    "version": 3
   },
   "file_extension": ".py",
   "mimetype": "text/x-python",
   "name": "python",
   "nbconvert_exporter": "python",
   "pygments_lexer": "ipython3",
   "version": "3.7.3"
  },
  "widgets": {
   "state": {
    "dbc998941ccc427b90355fd1d11b0c07": {
     "views": [
      {
       "cell_index": 25
      }
     ]
    }
   },
   "version": "1.2.0"
  }
 },
 "nbformat": 4,
 "nbformat_minor": 4
}
