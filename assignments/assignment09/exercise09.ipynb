{
 "cells": [
  {
   "cell_type": "markdown",
   "metadata": {
    "nbgrader": {
     "grade": false,
     "grade_id": "header",
     "locked": true,
     "schema_version": 1,
     "solution": false
    }
   },
   "source": [
    "# DSP - Aufgabenblatt 8\n",
    "#### FHNW - HS2019"
   ]
  },
  {
   "cell_type": "markdown",
   "metadata": {},
   "source": [
    "## `pandas`"
   ]
  },
  {
   "cell_type": "markdown",
   "metadata": {},
   "source": [
    "### Aufgabe 1\n",
    "\n",
    "Schreiben Sie eine Funktion, welche zwei `numpy`-*arrays* $x$ und $y$ erzeugt mit folgendem funktionalen Zusammenhang:\n",
    "\n",
    "\\begin{equation}\n",
    "y = a \\cdot x + b + \\epsilon\n",
    "\\end{equation}\n",
    "\n",
    "$x$ und $y$ sind also durch eine Geradengleichung einem linearen Zusammenhang unterworfen. $a$ ist die Steigung, $b$ der Achsenabschnitt und $\\epsilon$ sei zufälliges Rauschen, welches Sie mittels `np.random.randn` erzeugen können. Skalieren Sie die Stärke des Rauschens durch Hinzufügen eines Faktors $s$: $y = a \\cdot x + b + s \\cdot \\epsilon$.  \n",
    "\n",
    "Ihre Funktion soll `n` normalverteilte $x$-Werte bei wählbarem Mittelwert $\\mu$ und Standardabweichung $\\sigma$ und zugehörige $y$-Werte erzeugen.  \n",
    "\n",
    "Erzeugen Sie einen Satz Werte (1000 Punkte) und zeichnen Sie diesen als *scatter*-Plot."
   ]
  },
  {
   "cell_type": "code",
   "execution_count": null,
   "metadata": {},
   "outputs": [],
   "source": []
  },
  {
   "cell_type": "markdown",
   "metadata": {},
   "source": [
    "### Aufgabe 2\n",
    "\n",
    "Der Korrelationskoeffizient $r_{xy}$ zweier Zufallsvariablen $x$ und $y$ bemisst deren linearen Zusammenhang.  \n",
    "Er ist im Falle der deskriptiven Statistik definiert durch:\n",
    "\n",
    "\\begin{equation}\n",
    "r_{xy} = \\frac{{\\frac{1}{n}\\sum_{i=1}^{n}(x_i - \\bar x)(y_i - \\bar y)}}{\\sqrt{\\frac{1}{n}\\sum_{i=1}^{n}(x_i - \\bar x)^2}\\cdot \\sqrt{\\frac{1}{n}\\sum_{i=1}^{n}(y_i - \\bar y)^2}}\n",
    "\\end{equation}\n",
    "\n",
    "wobei $\\bar x$ und $\\bar y$ die Mittelwerte der Werte $x$ und $y$ seien.  \n",
    "\n",
    "Berechnen Sie den Korrelationskoeffizienten ihres Datensatzes aus Aufgabe 1. Verwenden Sie dazu die Funktion `np.corrcoef`.  \n",
    "\n",
    "Erzeugen Sie verschiedene Datensätze mittels ihrer Funktion aus Aufgabe 1 die sich durch unterschiedliche Korrelationskoeffizienten unterscheiden."
   ]
  },
  {
   "cell_type": "code",
   "execution_count": null,
   "metadata": {},
   "outputs": [],
   "source": []
  },
  {
   "cell_type": "markdown",
   "metadata": {},
   "source": [
    "### Aufgabe 3"
   ]
  },
  {
   "cell_type": "markdown",
   "metadata": {},
   "source": [
    "a) Laden Sie die beiden Datensätze `messwerte_mythenquai_2007-2018.csv` und `messwerte_tiefenbrunnen_2007-2018.csv` aus dem `data`-Verzeichnis im Repository in DataFrames.  \n",
    "\n",
    "b) Fügen Sie jeweils eine Spalte `messstation` hinzu und fügen Sie dann die beiden DataFrames zusammen.  \n",
    "Erzeugen Sie einen `DateTimeIndex`.\n",
    "\n",
    "c) Visualisieren Sie die Verteilungen der verschiedenen Attribute.  \n",
    "\n",
    "d) Berechnen Sie tägliche Mittelwerte für die verschiedenen Attribute und die beiden Messstationen getrennt.\n",
    "Visualisieren Sie diese Mittelwerte über die Zeit.  \n",
    "\n",
    "e) Berechnen Sie die (0.1, 0.25, 0.5, 0.75, .9)-Quantile innerhalb eines Tages und Visualisieren Sie diese für das Jahr 2018.\n",
    "\n",
    "f) Visualisieren Sie die Quantile der Messwerte als Funktion des Jahrestags (i.e. Datum ohne Angabe des Jahrs).\n",
    "\n",
    "Über alle Teilaufgaben: Wo können Sie welche Muster erkennen?"
   ]
  },
  {
   "cell_type": "code",
   "execution_count": null,
   "metadata": {},
   "outputs": [],
   "source": []
  },
  {
   "cell_type": "markdown",
   "metadata": {},
   "source": [
    "### Aufgabe 4\n",
    "Im Verzeichnis `data` im Repository und als `.zip` auf dem AD finden Sie verschiedene Datensätze der Stadt Zürich zu Wirtschaft, Bevölkerung, Immobilien etc.  \n",
    "\n",
    "Sie sind der Seite https://www.stadt-zuerich.ch/prd/de/index/statistik/themen.html entnommen.\n",
    "\n",
    "Laden Sie ein paar der Datensätze und kombinieren Sie diese in Tabellen, welche mehrere Variablen aus unterschiedlichen Dateien vereinen.  \n",
    "\n",
    "Speichern Sie ihren Datensatz als `csv` ab.  \n",
    "\n",
    "Finden Sie Möglichkeiten, den Datensatz zu gruppieren (via Kategorie, Funktion oder auch Mapping).\n",
    "Verwenden Sie wo immer möglich kategorische Attribute im DataFrame.\n",
    "\n",
    "Visualisieren Sie den entstandenen Datensatz."
   ]
  },
  {
   "cell_type": "code",
   "execution_count": 4,
   "metadata": {},
   "outputs": [],
   "source": [
    "TAX_FILE = '../../data/zuerich/WIR100T1002_Steuerbares-Einkommen_nach-Steuertarif-Stadtkreis-Stadtquartier.xlsx'\n",
    "\n",
    "def read_tax_data_year(year=2014, file=TAX_FILE):\n",
    "    df = pd.read_excel(file, sheet_name='{}'.format(year), skiprows=9)\n",
    "    df.columns = ['Area', 'GT 25%-Quantil', 'GT Median', 'GT 75%-Quantil',\n",
    "                  'VT 25%-Quantil', 'VT Median', 'VT 75%-Quantil',]\n",
    "    df = df[~df.Area.str.contains('Kreis')]\n",
    "    df = df[~df.Area.str.contains('Ganze Stadt')]\n",
    "    df['year'] = year\n",
    "    return df\n",
    "\n",
    "\n",
    "def read_tax_data():\n",
    "    for idx, year in enumerate(range(1999, 2015)):\n",
    "        df = read_tax_data_year(year=year)\n",
    "        if idx == 0:\n",
    "            dftot = df.copy()\n",
    "        else:\n",
    "            dftot = dftot.append(df)\n",
    "    df.index = range(len(df))\n",
    "    return dftot"
   ]
  }
 ],
 "metadata": {
  "celltoolbar": "Create Assignment",
  "kernelspec": {
   "display_name": "Python 3",
   "language": "python",
   "name": "python3"
  },
  "language_info": {
   "codemirror_mode": {
    "name": "ipython",
    "version": 3
   },
   "file_extension": ".py",
   "mimetype": "text/x-python",
   "name": "python",
   "nbconvert_exporter": "python",
   "pygments_lexer": "ipython3",
   "version": "3.7.3"
  },
  "widgets": {
   "state": {
    "dbc998941ccc427b90355fd1d11b0c07": {
     "views": [
      {
       "cell_index": 25
      }
     ]
    }
   },
   "version": "1.2.0"
  }
 },
 "nbformat": 4,
 "nbformat_minor": 4
}
