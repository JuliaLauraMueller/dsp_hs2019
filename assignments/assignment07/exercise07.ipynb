{
 "cells": [
  {
   "cell_type": "markdown",
   "metadata": {
    "deletable": false,
    "editable": false,
    "nbgrader": {
     "cell_type": "markdown",
     "checksum": "ade43b233d87a55b3f593bd1d215cd17",
     "grade": false,
     "grade_id": "header",
     "locked": true,
     "schema_version": 3,
     "solution": false
    }
   },
   "source": [
    "# DSP - Aufgabenblatt 7\n",
    "\n",
    "## Bewertete Übung\n",
    "\n",
    "#### FHNW - HS2019"
   ]
  },
  {
   "cell_type": "markdown",
   "metadata": {
    "deletable": false,
    "editable": false,
    "nbgrader": {
     "cell_type": "markdown",
     "checksum": "a03fc096907ff0ac619f6182defb7487",
     "grade": false,
     "grade_id": "cell-f66de17fc6068da5",
     "locked": true,
     "schema_version": 3,
     "solution": false
    }
   },
   "source": [
    "#### Vorgaben\n",
    "\n",
    "Sie dürfen für die Lösung der Übung zusammenarbeiten, so lange sich ihre **Zusammenarbeit auf konzeptionelle und algorithmische Fragestellungen beschränkt**. Bei kopiertem Code oder Text (von Mitstudierenden oder dem Internet) werden alle Lösungen der beteiligten Parteien mit 0 Punkten bewertet. Dazu werden alle Lösungen manuell und automatisiert auf Kopien untersucht.  \n",
    "\n",
    "#### Abgabe\n",
    "\n",
    "Arbeiten Sie auf einem eigenen Fork des Repositories `https://gitlab.fhnw.ch/ml/courses/dsp/dsp_hs2019.git` zu welchem Sie den Dozenten (@michael.graber) als *Maintainer* hinzufügen. Committen Sie regelmässig. Als Abgabe gilt ihr **letzter Commit vor Montag, 18. November 2019, 24 Uhr**."
   ]
  },
  {
   "cell_type": "markdown",
   "metadata": {
    "deletable": false,
    "editable": false,
    "nbgrader": {
     "cell_type": "markdown",
     "checksum": "4cd7bd53e1c9482580c7ee299af91b8c",
     "grade": false,
     "grade_id": "cell-decacecdd1529d0d",
     "locked": true,
     "schema_version": 3,
     "solution": false
    }
   },
   "source": [
    "#### Hinweise\n",
    "- Der *Code* muss auf `jhub.cs.technik.fhnw.ch` von Anfang bis Ende durchlaufen. Es wird nur funktionsfähiger Code bewertet.    \n",
    "- Beschriften Sie sämtliche Achsen (Bezeichnung und Einheit wenn möglich).  \n",
    "- Ergänzen Sie den Plot mit zusätzlicher Beschriftung falls dies notwendig ist zum Verständnis des Plots.  \n",
    "- Diskutieren Sie jeden Plot und beginnen Sie dabei mit einer Beschreibung dessen was der Plot zeigt.  \n",
    "\n",
    "\n",
    "- Versuchen Sie eine kompakte und performante Implementierung zu finden. Vollständige Punktzahl erreichen Sie bloss mit performantem *Code*.  "
   ]
  },
  {
   "cell_type": "markdown",
   "metadata": {
    "deletable": false,
    "editable": false,
    "nbgrader": {
     "cell_type": "markdown",
     "checksum": "4990ca57b7e46d66d2c7f5b230dd33b6",
     "grade": false,
     "grade_id": "cell-d0b1658323be9aa7",
     "locked": true,
     "schema_version": 3,
     "solution": false
    }
   },
   "source": [
    "### Aufgabe 1 (8 Punkte)\n",
    "\n",
    "Laden Sie das Bild `margaret_hamilton.jpg` aus dem Verzeichnis diese Übungsblatts.  \n",
    "\n",
    "Was ist die Form und was die Dimensionalität des geladenen *arrays*?  \n",
    "Wie viel Speicherplatz braucht es?  \n",
    "Wie viel ein einzelnes Element des *arrays*?  \n",
    "Was ist der Datentyp der *array*-Elemente?  \n",
    "Vergleichen Sie Anzahl Elemente und benötigter Speicherplatz.\n",
    "\n",
    "Machen diese Informationen Sinn zusammen? Begründen Sie."
   ]
  },
  {
   "cell_type": "code",
   "execution_count": null,
   "metadata": {
    "deletable": false,
    "nbgrader": {
     "cell_type": "code",
     "checksum": "1e80edebb5a984b3b976f300c0338ffd",
     "grade": true,
     "grade_id": "cell-8d52292df9aef5f4",
     "locked": false,
     "points": 7,
     "schema_version": 3,
     "solution": true
    }
   },
   "outputs": [],
   "source": [
    "import matplotlib.pyplot as plt\n",
    "%matplotlib inline\n",
    "\n",
    "plt.style.use('seaborn-muted')\n",
    "\n",
    "# YOUR CODE HERE\n",
    "raise NotImplementedError()"
   ]
  },
  {
   "cell_type": "markdown",
   "metadata": {
    "deletable": false,
    "nbgrader": {
     "cell_type": "markdown",
     "checksum": "0d04654e9782d90561c39ba3767f6e09",
     "grade": true,
     "grade_id": "cell-e0d37b5ee682f4e5",
     "locked": false,
     "points": 1,
     "schema_version": 3,
     "solution": true
    }
   },
   "source": [
    "YOUR ANSWER HERE"
   ]
  },
  {
   "cell_type": "markdown",
   "metadata": {
    "deletable": false,
    "editable": false,
    "nbgrader": {
     "cell_type": "markdown",
     "checksum": "a54f55f2636738500a37383ff60a2e26",
     "grade": false,
     "grade_id": "cell-7c5978a06dd1f236",
     "locked": true,
     "schema_version": 3,
     "solution": false
    }
   },
   "source": [
    "### Aufgabe 2 (3 Punkte)\n",
    "\n",
    "Zeichnen Sie das Bild. Verwenden Sie Graustufen zur Kodierung der Pixelwerte.  \n",
    "\n",
    "Was zeigt das Bild? Kennen Sie die Person?"
   ]
  },
  {
   "cell_type": "code",
   "execution_count": null,
   "metadata": {
    "deletable": false,
    "nbgrader": {
     "cell_type": "code",
     "checksum": "e5e032460278e58d4c3e3ce3b2e94c22",
     "grade": true,
     "grade_id": "cell-2ade85813064a162",
     "locked": false,
     "points": 2,
     "schema_version": 3,
     "solution": true
    }
   },
   "outputs": [],
   "source": [
    "# YOUR CODE HERE\n",
    "raise NotImplementedError()"
   ]
  },
  {
   "cell_type": "markdown",
   "metadata": {
    "deletable": false,
    "nbgrader": {
     "cell_type": "markdown",
     "checksum": "78f7ac7ea4c54ff480ba0c37f0c4d3b3",
     "grade": true,
     "grade_id": "cell-927ced6743bfda8c",
     "locked": false,
     "points": 1,
     "schema_version": 3,
     "solution": true
    }
   },
   "source": [
    "YOUR ANSWER HERE"
   ]
  },
  {
   "cell_type": "markdown",
   "metadata": {
    "deletable": false,
    "editable": false,
    "nbgrader": {
     "cell_type": "markdown",
     "checksum": "6fa93d41d66f6829c08d696d8042e2dc",
     "grade": false,
     "grade_id": "cell-6b2b46ef54aaf2dd",
     "locked": true,
     "schema_version": 3,
     "solution": false
    }
   },
   "source": [
    "### Aufgabe 3 (2 Punkte)\n",
    "\n",
    "Spiegeln Sie das Bild horizontal und zeichnen Sie es erneut.  "
   ]
  },
  {
   "cell_type": "code",
   "execution_count": null,
   "metadata": {
    "deletable": false,
    "nbgrader": {
     "cell_type": "code",
     "checksum": "99a9498a5f8585b2d1780bcd70f106de",
     "grade": true,
     "grade_id": "cell-92d0b2f8ba705751",
     "locked": false,
     "points": 2,
     "schema_version": 3,
     "solution": true
    }
   },
   "outputs": [],
   "source": [
    "# YOUR CODE HERE\n",
    "raise NotImplementedError()"
   ]
  },
  {
   "cell_type": "markdown",
   "metadata": {
    "deletable": false,
    "editable": false,
    "nbgrader": {
     "cell_type": "markdown",
     "checksum": "0f41804438033eb99cf4dadf25deb599",
     "grade": false,
     "grade_id": "cell-e53859b7ca0fb041",
     "locked": true,
     "schema_version": 3,
     "solution": false
    }
   },
   "source": [
    "### Aufgabe 4 (6 Punkte)\n",
    "\n",
    "Zeichnen Sie ein Histogramm der Pixelwerte.  \n",
    "\n",
    "Zwischen welchen Werten streuen die Pixelwerte?  \n",
    "Was ist eine sinnvoll gewählte Anzahl *Bins*? Begründen Sie. \n",
    "\n",
    "Zeichnen Sie Median und Mittelwert mit ins Histogramm als vertikale Linien und kennzeichnen Sie diese."
   ]
  },
  {
   "cell_type": "code",
   "execution_count": null,
   "metadata": {
    "deletable": false,
    "nbgrader": {
     "cell_type": "code",
     "checksum": "d597dea9a7930a48bf56e51aff403150",
     "grade": true,
     "grade_id": "cell-dee23eca85f97560",
     "locked": false,
     "points": 4,
     "schema_version": 3,
     "solution": true
    }
   },
   "outputs": [],
   "source": [
    "import numpy as np\n",
    "\n",
    "# YOUR CODE HERE\n",
    "raise NotImplementedError()"
   ]
  },
  {
   "cell_type": "markdown",
   "metadata": {
    "deletable": false,
    "nbgrader": {
     "cell_type": "markdown",
     "checksum": "097ce5a33ce90d5181c30c9100b41520",
     "grade": true,
     "grade_id": "cell-0c1b1b9f1abf008c",
     "locked": false,
     "points": 2,
     "schema_version": 3,
     "solution": true
    }
   },
   "source": [
    "YOUR ANSWER HERE"
   ]
  },
  {
   "cell_type": "markdown",
   "metadata": {
    "deletable": false,
    "editable": false,
    "nbgrader": {
     "cell_type": "markdown",
     "checksum": "87f92d2c51040815095b9ba373bbe106",
     "grade": false,
     "grade_id": "cell-f20bd7bcee2e5cef",
     "locked": true,
     "schema_version": 3,
     "solution": false
    }
   },
   "source": [
    "### Aufgabe 5 (6 Punkte)\n",
    "\n",
    "Nun 'Binarisieren' wir unser Originalbild: Berechnen Sie zwei neue Bilder, welche jeweils sämtliche Werte kleiner dem Mittelwert, bzw. dem Median, gleich 0 gesetzt haben, alle Werte darüber gleich 1.  \n",
    "\n",
    "Zeichnen Sie beide Bilder.  \n",
    "\n",
    "Unterscheiden sich die Bilder stark? Wieso?"
   ]
  },
  {
   "cell_type": "code",
   "execution_count": null,
   "metadata": {
    "deletable": false,
    "nbgrader": {
     "cell_type": "code",
     "checksum": "f1d41d37145e95eeca7f588840ae889c",
     "grade": true,
     "grade_id": "cell-1a68d8671eeae9f2",
     "locked": false,
     "points": 3,
     "schema_version": 3,
     "solution": true
    }
   },
   "outputs": [],
   "source": [
    "# YOUR CODE HERE\n",
    "raise NotImplementedError()"
   ]
  },
  {
   "cell_type": "code",
   "execution_count": null,
   "metadata": {
    "deletable": false,
    "nbgrader": {
     "cell_type": "code",
     "checksum": "182193174ab91ff2bf4f440ce6523e7f",
     "grade": true,
     "grade_id": "cell-4efd6be04ca452b0",
     "locked": false,
     "points": 2,
     "schema_version": 3,
     "solution": true
    }
   },
   "outputs": [],
   "source": [
    "# YOUR CODE HERE\n",
    "raise NotImplementedError()"
   ]
  },
  {
   "cell_type": "markdown",
   "metadata": {
    "deletable": false,
    "nbgrader": {
     "cell_type": "markdown",
     "checksum": "0141b342d1197647fb691a8fea833835",
     "grade": true,
     "grade_id": "cell-b20190c6322c149d",
     "locked": false,
     "points": 1,
     "schema_version": 3,
     "solution": true
    }
   },
   "source": [
    "YOUR ANSWER HERE"
   ]
  },
  {
   "cell_type": "markdown",
   "metadata": {
    "deletable": false,
    "editable": false,
    "nbgrader": {
     "cell_type": "markdown",
     "checksum": "378ea715c75737972e63116726be20f6",
     "grade": false,
     "grade_id": "cell-9f1b690675dcdfc0",
     "locked": true,
     "schema_version": 3,
     "solution": false
    }
   },
   "source": [
    "### Aufgabe 6 (5 Punkte)\n",
    "\n",
    "Berechnen und zeichnen Sie für das Originalbild das normalisierte Histogramm $p(v)$ und die normalisierte kumulative Verteilung der Pixelwerte $P(v)$. Verwenden Sie für die Berechnung beider Funktionen *Bins* der Grösse 1 zwischen 0 und (inklusive) maximalem Bildwert. Die Funktionswerte für das normalisierte Histogramm entsprechen dabei dem Anteil Werte in einem *Bin*. Die normalisierte kumulative Verteilung entspricht dem Anteil der Pixelwerte welche den Wert $v$ oder kleiner annehmen:\n",
    "\n",
    "\\begin{equation}\n",
    "P(v) = \\sum_{i=0}^v p(i)\n",
    "\\end{equation}\n",
    "\n",
    "Zeichnen Sie die Funktionen als Stufenfunktionen mit der `matplotlib`-Funktion `step` und berechnen Sie die kumulative Summe mit `np.cumsum`."
   ]
  },
  {
   "cell_type": "code",
   "execution_count": null,
   "metadata": {
    "deletable": false,
    "nbgrader": {
     "cell_type": "code",
     "checksum": "a6b1c446d0938e9ae59298fa7e47df8e",
     "grade": true,
     "grade_id": "cell-d141cda1a37c8528",
     "locked": false,
     "points": 5,
     "schema_version": 3,
     "solution": true
    }
   },
   "outputs": [],
   "source": [
    "# YOUR CODE HERE\n",
    "raise NotImplementedError()"
   ]
  },
  {
   "cell_type": "markdown",
   "metadata": {
    "deletable": false,
    "editable": false,
    "nbgrader": {
     "cell_type": "markdown",
     "checksum": "7788a5fdd51454f4c8d688c16a9d5d39",
     "grade": false,
     "grade_id": "cell-9e65bbb4375ddd60",
     "locked": true,
     "schema_version": 3,
     "solution": false
    }
   },
   "source": [
    "### Aufgabe 7 (5 Punkte)\n",
    "\n",
    "Berechnen und zeichnen Sie den kumulativen Mittelwert $m(v)$ der Pixelwerte. Der kumulative Mittelwert ist definiert als  \n",
    "\n",
    "\\begin{equation}\n",
    "m(v) = \\sum_{i=0}^{v} i\\cdot p(i)\n",
    "\\end{equation}  \n",
    "\n",
    "\n",
    "Was ist der grösste Wert der kumulativen Mittelwert-Funktion? Was entspricht er? Erklären Sie."
   ]
  },
  {
   "cell_type": "code",
   "execution_count": null,
   "metadata": {
    "deletable": false,
    "nbgrader": {
     "cell_type": "code",
     "checksum": "76309c31377956a10bf9f277d25bc811",
     "grade": true,
     "grade_id": "cell-2db6522b6f89f48f",
     "locked": false,
     "points": 4,
     "schema_version": 3,
     "solution": true
    }
   },
   "outputs": [],
   "source": [
    "# YOUR CODE HERE\n",
    "raise NotImplementedError()"
   ]
  },
  {
   "cell_type": "markdown",
   "metadata": {
    "deletable": false,
    "nbgrader": {
     "cell_type": "markdown",
     "checksum": "327ad61810534dcf86b618e2da10ddb7",
     "grade": true,
     "grade_id": "cell-1e00ff3d0f4a9f0b",
     "locked": false,
     "points": 1,
     "schema_version": 3,
     "solution": true
    }
   },
   "source": [
    "YOUR ANSWER HERE"
   ]
  },
  {
   "cell_type": "markdown",
   "metadata": {
    "deletable": false,
    "editable": false,
    "nbgrader": {
     "cell_type": "markdown",
     "checksum": "14e5b8c783f231488c2d20b0c234cd2e",
     "grade": false,
     "grade_id": "cell-fc822830c1242f9a",
     "locked": true,
     "schema_version": 3,
     "solution": false
    }
   },
   "source": [
    "### Aufgabe 8  (6 Punkte)\n",
    "\n",
    "*Otsu's Method* (Otsu, 1979) ist ein Algorithmus zur Berechnung eines Schwellwerts für die Binarisierung von Bildern. Ziel von *Otsu's Method* ist es, die Varianz zwischen den beiden Wertebereichen zu maximieren.  \n",
    "\n",
    "Zur Umsetzung des Algorithmus haben wir in den Aufgaben 6 und 7 schon einiges vorbereitet. Wir brauchen nämlich $p(v), P(v)$ und $m(v)$. Mit ihrer Hilfe können wir die Varianz zwischen den Pixelwerten aus den beiden Wertebereichen für einen beliebigen Schwellwert $t$ berechnen.\n",
    "\n",
    "\\begin{equation}\n",
    "\\sigma^{2}(t) = \\frac{(max(m(\\cdot))P(t) - m(t))^2}{P(t)(1-P(t))}\n",
    "\\end{equation}  \n",
    "\n",
    "Berechnen Sie $\\sigma^2(t)$ für alle möglichen $t$ und zeichnen Sie die Funktion.  \n",
    "\n",
    "*Otsu's* Schwellwert ist bei jenem $t$ zu wählen, für welches $\\sigma^2(t)$ maximal ist (sollte das Maximum nicht eindeutig sein, so wird über die verschiedenen Kandidaten gemittelt).  \n",
    "\n",
    "\n",
    "Schreiben Sie nun eine Funktion `otsu_threshold(image)`, welche den Otsu Schwellwert für ein beliebiges Graustufenbild berechnet.\n",
    "\n",
    "Was ist *Otsu's* Schwellwert für unser Originalbild?"
   ]
  },
  {
   "cell_type": "code",
   "execution_count": null,
   "metadata": {
    "deletable": false,
    "nbgrader": {
     "cell_type": "code",
     "checksum": "05b34ba63614e805c93d9b84f2838511",
     "grade": true,
     "grade_id": "cell-5ab54b87f6c58a8d",
     "locked": false,
     "points": 5,
     "schema_version": 3,
     "solution": true
    }
   },
   "outputs": [],
   "source": [
    "# YOUR CODE HERE\n",
    "raise NotImplementedError()"
   ]
  },
  {
   "cell_type": "markdown",
   "metadata": {
    "deletable": false,
    "nbgrader": {
     "cell_type": "markdown",
     "checksum": "a1f7fb5d5530c3b5c6470f110009d430",
     "grade": true,
     "grade_id": "cell-91942c934772cea3",
     "locked": false,
     "points": 1,
     "schema_version": 3,
     "solution": true,
     "task": false
    }
   },
   "source": [
    "YOUR ANSWER HERE"
   ]
  },
  {
   "cell_type": "markdown",
   "metadata": {
    "deletable": false,
    "editable": false,
    "nbgrader": {
     "cell_type": "markdown",
     "checksum": "69c0be6adeab94da28df7d130a6aaeff",
     "grade": false,
     "grade_id": "cell-97391c9a8ad705e9",
     "locked": true,
     "schema_version": 3,
     "solution": false
    }
   },
   "source": [
    "### Aufgabe 9 (5 Punkte)\n",
    "\n",
    "Zeichnen Sie erneut ein Histogramm und dazu Mittelwert, Median und *Otsu's* Schwellwert als vertikale Linie.  \n",
    "\n",
    "Zeichnen Sie dann ein Bild welches mit *Otsu's* Schwellwert binarisiert wurde.  \n",
    "\n",
    "Was stellen Sie fest? Beschreiben Sie Ihre Erkenntnisse."
   ]
  },
  {
   "cell_type": "code",
   "execution_count": null,
   "metadata": {
    "deletable": false,
    "nbgrader": {
     "cell_type": "code",
     "checksum": "bbac19f24bedf704d9b34c7042c74e57",
     "grade": true,
     "grade_id": "cell-78a5dc7ebb347674",
     "locked": false,
     "points": 2,
     "schema_version": 3,
     "solution": true
    }
   },
   "outputs": [],
   "source": [
    "# YOUR CODE HERE\n",
    "raise NotImplementedError()"
   ]
  },
  {
   "cell_type": "code",
   "execution_count": null,
   "metadata": {
    "deletable": false,
    "nbgrader": {
     "cell_type": "code",
     "checksum": "ea445f898c0dd81ab39f95783fc5e92c",
     "grade": true,
     "grade_id": "cell-12ba4de4447dbb93",
     "locked": false,
     "points": 1,
     "schema_version": 3,
     "solution": true
    }
   },
   "outputs": [],
   "source": [
    "# YOUR CODE HERE\n",
    "raise NotImplementedError()"
   ]
  },
  {
   "cell_type": "markdown",
   "metadata": {
    "deletable": false,
    "nbgrader": {
     "cell_type": "markdown",
     "checksum": "cb30e0c0e0a3025e1d1c7a46f221a002",
     "grade": true,
     "grade_id": "cell-de90666d5e5e8d7c",
     "locked": false,
     "points": 2,
     "schema_version": 3,
     "solution": true,
     "task": false
    }
   },
   "source": [
    "YOUR ANSWER HERE"
   ]
  },
  {
   "cell_type": "markdown",
   "metadata": {
    "deletable": false,
    "editable": false,
    "nbgrader": {
     "cell_type": "markdown",
     "checksum": "8b54ec04657ca0023a13495e1460fa3c",
     "grade": false,
     "grade_id": "cell-9dc487478a188785",
     "locked": true,
     "schema_version": 3,
     "solution": false,
     "task": false
    }
   },
   "source": [
    "### Aufgabe 10 (10 Punkte)\n",
    "\n",
    "Implementieren Sie zum Schluss eine Klasse, welche lokale Otsu-Schwellwerte berechnet.  \n",
    "Dabei soll bei der Objektinitialisierung eine Fenstergrösse definiert werden (*default value = 15*) können.\n",
    "\n",
    "Nun soll eine Methode `otsu_threshold_local(image)` ein 'rollendes Fenster' von Fenstergrösse mal Fenstergrösse über das gesamte Bild in x- und y-Richtung schieben. Auf jedem Fenster berechnen wir mit einer Funktion wie in Aufgabe 8 den Otsu-Schwellwert und bestimmen damit lokal, ob der Pixel in der Mitte des Fensters 0 oder 1 gesetzt werden soll.  \n",
    "Verwenden Sie an den Rändern 'unvollständige Fenster'.  \n",
    "\n",
    "Messen Sie die Zeit, welche ihre Implementierung braucht, um ein lokal binarisiertes Bild mit *default* Fenstergrösse zu berechnen.  \n",
    "\n",
    "Wie beurteilen Sie das Resultat dieser Binarisierung?  \n",
    "Wann könnte dieses lokale Verfahren von Vorteil sein?"
   ]
  },
  {
   "cell_type": "code",
   "execution_count": null,
   "metadata": {
    "deletable": false,
    "nbgrader": {
     "cell_type": "code",
     "checksum": "9995cd855043cbbe55f1af2bce3a0bb2",
     "grade": true,
     "grade_id": "cell-7e87cfc3aafbd56a",
     "locked": false,
     "points": 8,
     "schema_version": 3,
     "solution": true,
     "task": false
    }
   },
   "outputs": [],
   "source": [
    "# YOUR CODE HERE\n",
    "raise NotImplementedError()"
   ]
  },
  {
   "cell_type": "markdown",
   "metadata": {
    "deletable": false,
    "nbgrader": {
     "cell_type": "markdown",
     "checksum": "2b041fb39429134cfd467145c6e14e0f",
     "grade": true,
     "grade_id": "cell-c204749fe9330687",
     "locked": false,
     "points": 2,
     "schema_version": 3,
     "solution": true,
     "task": false
    }
   },
   "source": [
    "YOUR ANSWER HERE"
   ]
  }
 ],
 "metadata": {
  "kernelspec": {
   "display_name": "Python 3",
   "language": "python",
   "name": "python3"
  },
  "language_info": {
   "codemirror_mode": {
    "name": "ipython",
    "version": 3
   },
   "file_extension": ".py",
   "mimetype": "text/x-python",
   "name": "python",
   "nbconvert_exporter": "python",
   "pygments_lexer": "ipython3",
   "version": "3.7.3"
  },
  "widgets": {
   "state": {
    "dbc998941ccc427b90355fd1d11b0c07": {
     "views": [
      {
       "cell_index": 25
      }
     ]
    }
   },
   "version": "1.2.0"
  }
 },
 "nbformat": 4,
 "nbformat_minor": 1
}
